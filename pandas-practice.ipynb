{
 "cells": [
  {
   "cell_type": "code",
   "execution_count": 1,
   "id": "e0733104",
   "metadata": {
    "execution": {
     "iopub.execute_input": "2025-04-27T16:33:11.852271Z",
     "iopub.status.busy": "2025-04-27T16:33:11.851812Z",
     "iopub.status.idle": "2025-04-27T16:33:12.949221Z",
     "shell.execute_reply": "2025-04-27T16:33:12.947978Z"
    },
    "papermill": {
     "duration": 1.111892,
     "end_time": "2025-04-27T16:33:12.951453",
     "exception": false,
     "start_time": "2025-04-27T16:33:11.839561",
     "status": "completed"
    },
    "tags": []
   },
   "outputs": [],
   "source": [
    "import pandas as pd\n",
    "import numpy as np"
   ]
  },
  {
   "cell_type": "markdown",
   "id": "b0455033",
   "metadata": {
    "papermill": {
     "duration": 0.010444,
     "end_time": "2025-04-27T16:33:12.974822",
     "exception": false,
     "start_time": "2025-04-27T16:33:12.964378",
     "status": "completed"
    },
    "tags": []
   },
   "source": [
    "Series"
   ]
  },
  {
   "cell_type": "code",
   "execution_count": 2,
   "id": "d0eb2cee",
   "metadata": {
    "execution": {
     "iopub.execute_input": "2025-04-27T16:33:12.999109Z",
     "iopub.status.busy": "2025-04-27T16:33:12.998513Z",
     "iopub.status.idle": "2025-04-27T16:33:13.007951Z",
     "shell.execute_reply": "2025-04-27T16:33:13.006294Z"
    },
    "papermill": {
     "duration": 0.023255,
     "end_time": "2025-04-27T16:33:13.010331",
     "exception": false,
     "start_time": "2025-04-27T16:33:12.987076",
     "status": "completed"
    },
    "tags": []
   },
   "outputs": [],
   "source": [
    "mydfd = ['Boat', 'Car' , 'Truck']\n",
    "\n",
    "myseries = pd.Series(mydfd)"
   ]
  },
  {
   "cell_type": "code",
   "execution_count": 3,
   "id": "250bf928",
   "metadata": {
    "execution": {
     "iopub.execute_input": "2025-04-27T16:33:13.034331Z",
     "iopub.status.busy": "2025-04-27T16:33:13.033850Z",
     "iopub.status.idle": "2025-04-27T16:33:13.045269Z",
     "shell.execute_reply": "2025-04-27T16:33:13.043987Z"
    },
    "papermill": {
     "duration": 0.025408,
     "end_time": "2025-04-27T16:33:13.047412",
     "exception": false,
     "start_time": "2025-04-27T16:33:13.022004",
     "status": "completed"
    },
    "tags": []
   },
   "outputs": [
    {
     "data": {
      "text/plain": [
       "0     Boat\n",
       "1      Car\n",
       "2    Truck\n",
       "dtype: object"
      ]
     },
     "execution_count": 3,
     "metadata": {},
     "output_type": "execute_result"
    }
   ],
   "source": [
    "myseries"
   ]
  },
  {
   "cell_type": "markdown",
   "id": "e828b09d",
   "metadata": {
    "papermill": {
     "duration": 0.011274,
     "end_time": "2025-04-27T16:33:13.069934",
     "exception": false,
     "start_time": "2025-04-27T16:33:13.058660",
     "status": "completed"
    },
    "tags": []
   },
   "source": [
    "DataFrame"
   ]
  },
  {
   "cell_type": "code",
   "execution_count": 4,
   "id": "df5a646a",
   "metadata": {
    "execution": {
     "iopub.execute_input": "2025-04-27T16:33:13.101731Z",
     "iopub.status.busy": "2025-04-27T16:33:13.101301Z",
     "iopub.status.idle": "2025-04-27T16:33:13.108983Z",
     "shell.execute_reply": "2025-04-27T16:33:13.106957Z"
    },
    "papermill": {
     "duration": 0.026458,
     "end_time": "2025-04-27T16:33:13.111309",
     "exception": false,
     "start_time": "2025-04-27T16:33:13.084851",
     "status": "completed"
    },
    "tags": []
   },
   "outputs": [],
   "source": [
    "mydfdf = [('Boat',1), ('Car',55), ('Truck', 69),]\n",
    "\n",
    "mydf = pd.DataFrame(mydfdf)"
   ]
  },
  {
   "cell_type": "code",
   "execution_count": 5,
   "id": "5c354c6c",
   "metadata": {
    "execution": {
     "iopub.execute_input": "2025-04-27T16:33:13.134140Z",
     "iopub.status.busy": "2025-04-27T16:33:13.133670Z",
     "iopub.status.idle": "2025-04-27T16:33:13.161114Z",
     "shell.execute_reply": "2025-04-27T16:33:13.159295Z"
    },
    "papermill": {
     "duration": 0.041128,
     "end_time": "2025-04-27T16:33:13.163490",
     "exception": false,
     "start_time": "2025-04-27T16:33:13.122362",
     "status": "completed"
    },
    "tags": []
   },
   "outputs": [
    {
     "data": {
      "text/html": [
       "<div>\n",
       "<style scoped>\n",
       "    .dataframe tbody tr th:only-of-type {\n",
       "        vertical-align: middle;\n",
       "    }\n",
       "\n",
       "    .dataframe tbody tr th {\n",
       "        vertical-align: top;\n",
       "    }\n",
       "\n",
       "    .dataframe thead th {\n",
       "        text-align: right;\n",
       "    }\n",
       "</style>\n",
       "<table border=\"1\" class=\"dataframe\">\n",
       "  <thead>\n",
       "    <tr style=\"text-align: right;\">\n",
       "      <th></th>\n",
       "      <th>0</th>\n",
       "      <th>1</th>\n",
       "    </tr>\n",
       "  </thead>\n",
       "  <tbody>\n",
       "    <tr>\n",
       "      <th>0</th>\n",
       "      <td>Boat</td>\n",
       "      <td>1</td>\n",
       "    </tr>\n",
       "    <tr>\n",
       "      <th>1</th>\n",
       "      <td>Car</td>\n",
       "      <td>55</td>\n",
       "    </tr>\n",
       "    <tr>\n",
       "      <th>2</th>\n",
       "      <td>Truck</td>\n",
       "      <td>69</td>\n",
       "    </tr>\n",
       "  </tbody>\n",
       "</table>\n",
       "</div>"
      ],
      "text/plain": [
       "       0   1\n",
       "0   Boat   1\n",
       "1    Car  55\n",
       "2  Truck  69"
      ]
     },
     "execution_count": 5,
     "metadata": {},
     "output_type": "execute_result"
    }
   ],
   "source": [
    "mydf"
   ]
  },
  {
   "cell_type": "code",
   "execution_count": 6,
   "id": "e78f1568",
   "metadata": {
    "execution": {
     "iopub.execute_input": "2025-04-27T16:33:13.186759Z",
     "iopub.status.busy": "2025-04-27T16:33:13.186378Z",
     "iopub.status.idle": "2025-04-27T16:33:13.202481Z",
     "shell.execute_reply": "2025-04-27T16:33:13.200140Z"
    },
    "papermill": {
     "duration": 0.030931,
     "end_time": "2025-04-27T16:33:13.205358",
     "exception": false,
     "start_time": "2025-04-27T16:33:13.174427",
     "status": "completed"
    },
    "tags": []
   },
   "outputs": [
    {
     "data": {
      "text/html": [
       "<div>\n",
       "<style scoped>\n",
       "    .dataframe tbody tr th:only-of-type {\n",
       "        vertical-align: middle;\n",
       "    }\n",
       "\n",
       "    .dataframe tbody tr th {\n",
       "        vertical-align: top;\n",
       "    }\n",
       "\n",
       "    .dataframe thead th {\n",
       "        text-align: right;\n",
       "    }\n",
       "</style>\n",
       "<table border=\"1\" class=\"dataframe\">\n",
       "  <thead>\n",
       "    <tr style=\"text-align: right;\">\n",
       "      <th></th>\n",
       "      <th>thing</th>\n",
       "      <th>count</th>\n",
       "    </tr>\n",
       "  </thead>\n",
       "  <tbody>\n",
       "    <tr>\n",
       "      <th>0</th>\n",
       "      <td>Boat</td>\n",
       "      <td>1</td>\n",
       "    </tr>\n",
       "    <tr>\n",
       "      <th>1</th>\n",
       "      <td>Car</td>\n",
       "      <td>55</td>\n",
       "    </tr>\n",
       "    <tr>\n",
       "      <th>2</th>\n",
       "      <td>Truck</td>\n",
       "      <td>69</td>\n",
       "    </tr>\n",
       "  </tbody>\n",
       "</table>\n",
       "</div>"
      ],
      "text/plain": [
       "   thing  count\n",
       "0   Boat      1\n",
       "1    Car     55\n",
       "2  Truck     69"
      ]
     },
     "execution_count": 6,
     "metadata": {},
     "output_type": "execute_result"
    }
   ],
   "source": [
    "mydf = pd.DataFrame(mydfdf, columns = ['thing', 'count'])\n",
    "mydf"
   ]
  },
  {
   "cell_type": "code",
   "execution_count": 7,
   "id": "c5ec6831",
   "metadata": {
    "execution": {
     "iopub.execute_input": "2025-04-27T16:33:13.229822Z",
     "iopub.status.busy": "2025-04-27T16:33:13.229416Z",
     "iopub.status.idle": "2025-04-27T16:33:13.238317Z",
     "shell.execute_reply": "2025-04-27T16:33:13.236250Z"
    },
    "papermill": {
     "duration": 0.022827,
     "end_time": "2025-04-27T16:33:13.240467",
     "exception": false,
     "start_time": "2025-04-27T16:33:13.217640",
     "status": "completed"
    },
    "tags": []
   },
   "outputs": [
    {
     "data": {
      "text/plain": [
       "0     1\n",
       "1    55\n",
       "2    69\n",
       "Name: count, dtype: int64"
      ]
     },
     "execution_count": 7,
     "metadata": {},
     "output_type": "execute_result"
    }
   ],
   "source": [
    "mydf['count']"
   ]
  },
  {
   "cell_type": "code",
   "execution_count": 8,
   "id": "45435e6d",
   "metadata": {
    "execution": {
     "iopub.execute_input": "2025-04-27T16:33:13.266982Z",
     "iopub.status.busy": "2025-04-27T16:33:13.266612Z",
     "iopub.status.idle": "2025-04-27T16:33:13.273970Z",
     "shell.execute_reply": "2025-04-27T16:33:13.272585Z"
    },
    "papermill": {
     "duration": 0.023161,
     "end_time": "2025-04-27T16:33:13.276005",
     "exception": false,
     "start_time": "2025-04-27T16:33:13.252844",
     "status": "completed"
    },
    "tags": []
   },
   "outputs": [
    {
     "data": {
      "text/plain": [
       "pandas.core.series.Series"
      ]
     },
     "execution_count": 8,
     "metadata": {},
     "output_type": "execute_result"
    }
   ],
   "source": [
    "type(mydf['count'])"
   ]
  },
  {
   "cell_type": "code",
   "execution_count": 9,
   "id": "1a1624f4",
   "metadata": {
    "execution": {
     "iopub.execute_input": "2025-04-27T16:33:13.299378Z",
     "iopub.status.busy": "2025-04-27T16:33:13.298997Z",
     "iopub.status.idle": "2025-04-27T16:33:13.306551Z",
     "shell.execute_reply": "2025-04-27T16:33:13.305166Z"
    },
    "papermill": {
     "duration": 0.021998,
     "end_time": "2025-04-27T16:33:13.309326",
     "exception": false,
     "start_time": "2025-04-27T16:33:13.287328",
     "status": "completed"
    },
    "tags": []
   },
   "outputs": [
    {
     "data": {
      "text/plain": [
       "thing    object\n",
       "count     int64\n",
       "dtype: object"
      ]
     },
     "execution_count": 9,
     "metadata": {},
     "output_type": "execute_result"
    }
   ],
   "source": [
    "mydf.dtypes"
   ]
  },
  {
   "cell_type": "markdown",
   "id": "3bd4732f",
   "metadata": {
    "papermill": {
     "duration": 0.010328,
     "end_time": "2025-04-27T16:33:13.331851",
     "exception": false,
     "start_time": "2025-04-27T16:33:13.321523",
     "status": "completed"
    },
    "tags": []
   },
   "source": [
    "Intermediate"
   ]
  },
  {
   "cell_type": "code",
   "execution_count": 10,
   "id": "5c29027c",
   "metadata": {
    "execution": {
     "iopub.execute_input": "2025-04-27T16:33:13.356629Z",
     "iopub.status.busy": "2025-04-27T16:33:13.356270Z",
     "iopub.status.idle": "2025-04-27T16:33:13.385948Z",
     "shell.execute_reply": "2025-04-27T16:33:13.384634Z"
    },
    "papermill": {
     "duration": 0.045737,
     "end_time": "2025-04-27T16:33:13.388547",
     "exception": false,
     "start_time": "2025-04-27T16:33:13.342810",
     "status": "completed"
    },
    "tags": []
   },
   "outputs": [],
   "source": [
    "mydf = pd.read_csv('/kaggle/input/mrbeast-youtubestats/MrBeast_youtube_stats.csv')"
   ]
  },
  {
   "cell_type": "code",
   "execution_count": 11,
   "id": "34d1fafe",
   "metadata": {
    "execution": {
     "iopub.execute_input": "2025-04-27T16:33:13.413483Z",
     "iopub.status.busy": "2025-04-27T16:33:13.413097Z",
     "iopub.status.idle": "2025-04-27T16:33:13.418579Z",
     "shell.execute_reply": "2025-04-27T16:33:13.416862Z"
    },
    "papermill": {
     "duration": 0.019865,
     "end_time": "2025-04-27T16:33:13.420759",
     "exception": false,
     "start_time": "2025-04-27T16:33:13.400894",
     "status": "completed"
    },
    "tags": []
   },
   "outputs": [],
   "source": [
    "mydf = pd.DataFrame(mydf)"
   ]
  },
  {
   "cell_type": "markdown",
   "id": "0c189f13",
   "metadata": {
    "papermill": {
     "duration": 0.010857,
     "end_time": "2025-04-27T16:33:13.443297",
     "exception": false,
     "start_time": "2025-04-27T16:33:13.432440",
     "status": "completed"
    },
    "tags": []
   },
   "source": [
    "Head / Tail"
   ]
  },
  {
   "cell_type": "code",
   "execution_count": 12,
   "id": "a1ccb6f2",
   "metadata": {
    "execution": {
     "iopub.execute_input": "2025-04-27T16:33:13.472221Z",
     "iopub.status.busy": "2025-04-27T16:33:13.471766Z",
     "iopub.status.idle": "2025-04-27T16:33:13.512535Z",
     "shell.execute_reply": "2025-04-27T16:33:13.511399Z"
    },
    "papermill": {
     "duration": 0.057175,
     "end_time": "2025-04-27T16:33:13.514957",
     "exception": false,
     "start_time": "2025-04-27T16:33:13.457782",
     "status": "completed"
    },
    "tags": []
   },
   "outputs": [
    {
     "name": "stderr",
     "output_type": "stream",
     "text": [
      "/usr/local/lib/python3.10/dist-packages/pandas/io/formats/format.py:1458: RuntimeWarning: invalid value encountered in greater\n",
      "  has_large_values = (abs_vals > 1e6).any()\n",
      "/usr/local/lib/python3.10/dist-packages/pandas/io/formats/format.py:1459: RuntimeWarning: invalid value encountered in less\n",
      "  has_small_values = ((abs_vals < 10 ** (-self.digits)) & (abs_vals > 0)).any()\n",
      "/usr/local/lib/python3.10/dist-packages/pandas/io/formats/format.py:1459: RuntimeWarning: invalid value encountered in greater\n",
      "  has_small_values = ((abs_vals < 10 ** (-self.digits)) & (abs_vals > 0)).any()\n",
      "/usr/local/lib/python3.10/dist-packages/pandas/io/formats/format.py:1458: RuntimeWarning: invalid value encountered in greater\n",
      "  has_large_values = (abs_vals > 1e6).any()\n",
      "/usr/local/lib/python3.10/dist-packages/pandas/io/formats/format.py:1459: RuntimeWarning: invalid value encountered in less\n",
      "  has_small_values = ((abs_vals < 10 ** (-self.digits)) & (abs_vals > 0)).any()\n",
      "/usr/local/lib/python3.10/dist-packages/pandas/io/formats/format.py:1459: RuntimeWarning: invalid value encountered in greater\n",
      "  has_small_values = ((abs_vals < 10 ** (-self.digits)) & (abs_vals > 0)).any()\n"
     ]
    },
    {
     "data": {
      "text/html": [
       "<div>\n",
       "<style scoped>\n",
       "    .dataframe tbody tr th:only-of-type {\n",
       "        vertical-align: middle;\n",
       "    }\n",
       "\n",
       "    .dataframe tbody tr th {\n",
       "        vertical-align: top;\n",
       "    }\n",
       "\n",
       "    .dataframe thead th {\n",
       "        text-align: right;\n",
       "    }\n",
       "</style>\n",
       "<table border=\"1\" class=\"dataframe\">\n",
       "  <thead>\n",
       "    <tr style=\"text-align: right;\">\n",
       "      <th></th>\n",
       "      <th>id</th>\n",
       "      <th>title</th>\n",
       "      <th>description</th>\n",
       "      <th>publishTime</th>\n",
       "      <th>kind_stats</th>\n",
       "      <th>duration_seconds</th>\n",
       "      <th>viewCount</th>\n",
       "      <th>likeCount</th>\n",
       "      <th>commentCount</th>\n",
       "      <th>thumbnails.default.url</th>\n",
       "      <th>...</th>\n",
       "      <th>thumbnails.high.width</th>\n",
       "      <th>thumbnails.high.height</th>\n",
       "      <th>contentDetails.duration</th>\n",
       "      <th>contentDetails.dimension</th>\n",
       "      <th>topicDetails.topicCategories</th>\n",
       "      <th>snippet.defaultLanguage</th>\n",
       "      <th>localizations.en.title</th>\n",
       "      <th>localizations.en.description</th>\n",
       "      <th>snippet.tags</th>\n",
       "      <th>contentDetails.contentRating.ytRating</th>\n",
       "    </tr>\n",
       "  </thead>\n",
       "  <tbody>\n",
       "    <tr>\n",
       "      <th>0</th>\n",
       "      <td>TQHEJj68Jew</td>\n",
       "      <td>I Got Hunted By A Real Bounty Hunter</td>\n",
       "      <td>Sign up for Current w/ my Creator Code \"BEAST\"...</td>\n",
       "      <td>2021-04-24 20:00:00+00:00</td>\n",
       "      <td>youtube#video</td>\n",
       "      <td>861</td>\n",
       "      <td>84717282.0</td>\n",
       "      <td>2876493.0</td>\n",
       "      <td>128922.0</td>\n",
       "      <td>https://i.ytimg.com/vi/TQHEJj68Jew/default.jpg</td>\n",
       "      <td>...</td>\n",
       "      <td>480.0</td>\n",
       "      <td>360.0</td>\n",
       "      <td>PT14M21S</td>\n",
       "      <td>2d</td>\n",
       "      <td>['https://en.wikipedia.org/wiki/Lifestyle_(soc...</td>\n",
       "      <td>NaN</td>\n",
       "      <td>NaN</td>\n",
       "      <td>NaN</td>\n",
       "      <td>NaN</td>\n",
       "      <td>NaN</td>\n",
       "    </tr>\n",
       "    <tr>\n",
       "      <th>1</th>\n",
       "      <td>00NgUctWoLQ</td>\n",
       "      <td>Extreme $1,000,000 Hide And Seek</td>\n",
       "      <td>I didn't expect that to happen at the end I wa...</td>\n",
       "      <td>2021-12-18 21:00:00+00:00</td>\n",
       "      <td>youtube#video</td>\n",
       "      <td>729</td>\n",
       "      <td>32090178.0</td>\n",
       "      <td>2125183.0</td>\n",
       "      <td>73593.0</td>\n",
       "      <td>https://i.ytimg.com/vi/00NgUctWoLQ/default.jpg</td>\n",
       "      <td>...</td>\n",
       "      <td>480.0</td>\n",
       "      <td>360.0</td>\n",
       "      <td>PT12M9S</td>\n",
       "      <td>2d</td>\n",
       "      <td>['https://en.wikipedia.org/wiki/Lifestyle_(soc...</td>\n",
       "      <td>en</td>\n",
       "      <td>Extreme $1,000,000 Hide And Seek</td>\n",
       "      <td>I didn't expect that to happen at the end I wa...</td>\n",
       "      <td>NaN</td>\n",
       "      <td>NaN</td>\n",
       "    </tr>\n",
       "    <tr>\n",
       "      <th>2</th>\n",
       "      <td>NaN</td>\n",
       "      <td>MrBeast</td>\n",
       "      <td>Accomplishments - Raised $20000000 To Plant 20...</td>\n",
       "      <td>2012-02-20 00:43:50+00:00</td>\n",
       "      <td>NaN</td>\n",
       "      <td>0</td>\n",
       "      <td>NaN</td>\n",
       "      <td>NaN</td>\n",
       "      <td>NaN</td>\n",
       "      <td>https://yt3.ggpht.com/ytc/AKedOLTctGKJ32CdDLiS...</td>\n",
       "      <td>...</td>\n",
       "      <td>NaN</td>\n",
       "      <td>NaN</td>\n",
       "      <td>NaN</td>\n",
       "      <td>NaN</td>\n",
       "      <td>NaN</td>\n",
       "      <td>NaN</td>\n",
       "      <td>NaN</td>\n",
       "      <td>NaN</td>\n",
       "      <td>NaN</td>\n",
       "      <td>NaN</td>\n",
       "    </tr>\n",
       "    <tr>\n",
       "      <th>3</th>\n",
       "      <td>ayXxwJJId_c</td>\n",
       "      <td>I Bought The World&amp;#39;s Largest Mystery Box! ...</td>\n",
       "      <td>I cant believe I spent over $500000 on mystery...</td>\n",
       "      <td>2021-04-03 20:00:01+00:00</td>\n",
       "      <td>youtube#video</td>\n",
       "      <td>709</td>\n",
       "      <td>101745632.0</td>\n",
       "      <td>3110824.0</td>\n",
       "      <td>162796.0</td>\n",
       "      <td>https://i.ytimg.com/vi/ayXxwJJId_c/default.jpg</td>\n",
       "      <td>...</td>\n",
       "      <td>480.0</td>\n",
       "      <td>360.0</td>\n",
       "      <td>PT11M49S</td>\n",
       "      <td>2d</td>\n",
       "      <td>['https://en.wikipedia.org/wiki/Lifestyle_(soc...</td>\n",
       "      <td>NaN</td>\n",
       "      <td>NaN</td>\n",
       "      <td>NaN</td>\n",
       "      <td>NaN</td>\n",
       "      <td>NaN</td>\n",
       "    </tr>\n",
       "    <tr>\n",
       "      <th>4</th>\n",
       "      <td>cExLQ1o2pDw</td>\n",
       "      <td>First To Rob Bank Wins $100,000</td>\n",
       "      <td>I didnt think he would actually rob the bank.....</td>\n",
       "      <td>2021-09-26 20:00:06+00:00</td>\n",
       "      <td>youtube#video</td>\n",
       "      <td>482</td>\n",
       "      <td>50008942.0</td>\n",
       "      <td>2359606.0</td>\n",
       "      <td>120621.0</td>\n",
       "      <td>https://i.ytimg.com/vi/cExLQ1o2pDw/default.jpg</td>\n",
       "      <td>...</td>\n",
       "      <td>480.0</td>\n",
       "      <td>360.0</td>\n",
       "      <td>PT8M2S</td>\n",
       "      <td>2d</td>\n",
       "      <td>['https://en.wikipedia.org/wiki/Lifestyle_(soc...</td>\n",
       "      <td>NaN</td>\n",
       "      <td>NaN</td>\n",
       "      <td>NaN</td>\n",
       "      <td>NaN</td>\n",
       "      <td>NaN</td>\n",
       "    </tr>\n",
       "    <tr>\n",
       "      <th>5</th>\n",
       "      <td>GLoeAJUcz38</td>\n",
       "      <td>Press This Button To Win $100,000!</td>\n",
       "      <td>Push the red subscribe button and you could al...</td>\n",
       "      <td>2020-11-14 21:00:02+00:00</td>\n",
       "      <td>youtube#video</td>\n",
       "      <td>911</td>\n",
       "      <td>145527042.0</td>\n",
       "      <td>2762425.0</td>\n",
       "      <td>83853.0</td>\n",
       "      <td>https://i.ytimg.com/vi/GLoeAJUcz38/default.jpg</td>\n",
       "      <td>...</td>\n",
       "      <td>480.0</td>\n",
       "      <td>360.0</td>\n",
       "      <td>PT15M11S</td>\n",
       "      <td>2d</td>\n",
       "      <td>['https://en.wikipedia.org/wiki/Lifestyle_(soc...</td>\n",
       "      <td>NaN</td>\n",
       "      <td>NaN</td>\n",
       "      <td>NaN</td>\n",
       "      <td>NaN</td>\n",
       "      <td>NaN</td>\n",
       "    </tr>\n",
       "    <tr>\n",
       "      <th>6</th>\n",
       "      <td>nM89Wl03Q4g</td>\n",
       "      <td>I Survived 50 Hours In A Maximum Security Prison</td>\n",
       "      <td>I can't believe this prison let me do this lol...</td>\n",
       "      <td>2021-06-26 20:00:02+00:00</td>\n",
       "      <td>youtube#video</td>\n",
       "      <td>754</td>\n",
       "      <td>79464833.0</td>\n",
       "      <td>2214006.0</td>\n",
       "      <td>94886.0</td>\n",
       "      <td>https://i.ytimg.com/vi/nM89Wl03Q4g/default.jpg</td>\n",
       "      <td>...</td>\n",
       "      <td>480.0</td>\n",
       "      <td>360.0</td>\n",
       "      <td>PT12M34S</td>\n",
       "      <td>2d</td>\n",
       "      <td>['https://en.wikipedia.org/wiki/Entertainment'...</td>\n",
       "      <td>NaN</td>\n",
       "      <td>NaN</td>\n",
       "      <td>NaN</td>\n",
       "      <td>NaN</td>\n",
       "      <td>NaN</td>\n",
       "    </tr>\n",
       "    <tr>\n",
       "      <th>7</th>\n",
       "      <td>9bqk6ZUsKyA</td>\n",
       "      <td>I Spent 50 Hours Buried Alive</td>\n",
       "      <td>This was the most insane thing I've ever done ...</td>\n",
       "      <td>2021-03-27 20:00:04+00:00</td>\n",
       "      <td>youtube#video</td>\n",
       "      <td>760</td>\n",
       "      <td>154322660.0</td>\n",
       "      <td>5379027.0</td>\n",
       "      <td>233576.0</td>\n",
       "      <td>https://i.ytimg.com/vi/9bqk6ZUsKyA/default.jpg</td>\n",
       "      <td>...</td>\n",
       "      <td>480.0</td>\n",
       "      <td>360.0</td>\n",
       "      <td>PT12M40S</td>\n",
       "      <td>2d</td>\n",
       "      <td>['https://en.wikipedia.org/wiki/Lifestyle_(soc...</td>\n",
       "      <td>NaN</td>\n",
       "      <td>NaN</td>\n",
       "      <td>NaN</td>\n",
       "      <td>NaN</td>\n",
       "      <td>NaN</td>\n",
       "    </tr>\n",
       "    <tr>\n",
       "      <th>8</th>\n",
       "      <td>HBMmK1c44sE</td>\n",
       "      <td>I Spent 24 Hours In A Doomsday Bunker</td>\n",
       "      <td>The bunker gets crazier as the video goes on! ...</td>\n",
       "      <td>2020-04-11 20:00:00+00:00</td>\n",
       "      <td>youtube#video</td>\n",
       "      <td>719</td>\n",
       "      <td>102795467.0</td>\n",
       "      <td>2080395.0</td>\n",
       "      <td>77842.0</td>\n",
       "      <td>https://i.ytimg.com/vi/HBMmK1c44sE/default.jpg</td>\n",
       "      <td>...</td>\n",
       "      <td>480.0</td>\n",
       "      <td>360.0</td>\n",
       "      <td>PT11M59S</td>\n",
       "      <td>2d</td>\n",
       "      <td>['https://en.wikipedia.org/wiki/Lifestyle_(soc...</td>\n",
       "      <td>NaN</td>\n",
       "      <td>NaN</td>\n",
       "      <td>NaN</td>\n",
       "      <td>NaN</td>\n",
       "      <td>NaN</td>\n",
       "    </tr>\n",
       "    <tr>\n",
       "      <th>9</th>\n",
       "      <td>vp5sSqyZ5Go</td>\n",
       "      <td>I Filled My Brother’s House With Slime &amp;amp; B...</td>\n",
       "      <td>I did not expect that to happen..... DOWNLOAD ...</td>\n",
       "      <td>2020-10-10 20:00:31+00:00</td>\n",
       "      <td>youtube#video</td>\n",
       "      <td>625</td>\n",
       "      <td>95079717.0</td>\n",
       "      <td>2612376.0</td>\n",
       "      <td>116266.0</td>\n",
       "      <td>https://i.ytimg.com/vi/vp5sSqyZ5Go/default.jpg</td>\n",
       "      <td>...</td>\n",
       "      <td>480.0</td>\n",
       "      <td>360.0</td>\n",
       "      <td>PT10M25S</td>\n",
       "      <td>2d</td>\n",
       "      <td>['https://en.wikipedia.org/wiki/Hobby', 'https...</td>\n",
       "      <td>NaN</td>\n",
       "      <td>NaN</td>\n",
       "      <td>NaN</td>\n",
       "      <td>NaN</td>\n",
       "      <td>NaN</td>\n",
       "    </tr>\n",
       "  </tbody>\n",
       "</table>\n",
       "<p>10 rows × 26 columns</p>\n",
       "</div>"
      ],
      "text/plain": [
       "            id                                              title  \\\n",
       "0  TQHEJj68Jew               I Got Hunted By A Real Bounty Hunter   \n",
       "1  00NgUctWoLQ                   Extreme $1,000,000 Hide And Seek   \n",
       "2          NaN                                            MrBeast   \n",
       "3  ayXxwJJId_c  I Bought The World&#39;s Largest Mystery Box! ...   \n",
       "4  cExLQ1o2pDw                    First To Rob Bank Wins $100,000   \n",
       "5  GLoeAJUcz38                 Press This Button To Win $100,000!   \n",
       "6  nM89Wl03Q4g   I Survived 50 Hours In A Maximum Security Prison   \n",
       "7  9bqk6ZUsKyA                      I Spent 50 Hours Buried Alive   \n",
       "8  HBMmK1c44sE              I Spent 24 Hours In A Doomsday Bunker   \n",
       "9  vp5sSqyZ5Go  I Filled My Brother’s House With Slime &amp; B...   \n",
       "\n",
       "                                         description  \\\n",
       "0  Sign up for Current w/ my Creator Code \"BEAST\"...   \n",
       "1  I didn't expect that to happen at the end I wa...   \n",
       "2  Accomplishments - Raised $20000000 To Plant 20...   \n",
       "3  I cant believe I spent over $500000 on mystery...   \n",
       "4  I didnt think he would actually rob the bank.....   \n",
       "5  Push the red subscribe button and you could al...   \n",
       "6  I can't believe this prison let me do this lol...   \n",
       "7  This was the most insane thing I've ever done ...   \n",
       "8  The bunker gets crazier as the video goes on! ...   \n",
       "9  I did not expect that to happen..... DOWNLOAD ...   \n",
       "\n",
       "                 publishTime     kind_stats  duration_seconds    viewCount  \\\n",
       "0  2021-04-24 20:00:00+00:00  youtube#video               861   84717282.0   \n",
       "1  2021-12-18 21:00:00+00:00  youtube#video               729   32090178.0   \n",
       "2  2012-02-20 00:43:50+00:00            NaN                 0          NaN   \n",
       "3  2021-04-03 20:00:01+00:00  youtube#video               709  101745632.0   \n",
       "4  2021-09-26 20:00:06+00:00  youtube#video               482   50008942.0   \n",
       "5  2020-11-14 21:00:02+00:00  youtube#video               911  145527042.0   \n",
       "6  2021-06-26 20:00:02+00:00  youtube#video               754   79464833.0   \n",
       "7  2021-03-27 20:00:04+00:00  youtube#video               760  154322660.0   \n",
       "8  2020-04-11 20:00:00+00:00  youtube#video               719  102795467.0   \n",
       "9  2020-10-10 20:00:31+00:00  youtube#video               625   95079717.0   \n",
       "\n",
       "   likeCount  commentCount                             thumbnails.default.url  \\\n",
       "0  2876493.0      128922.0     https://i.ytimg.com/vi/TQHEJj68Jew/default.jpg   \n",
       "1  2125183.0       73593.0     https://i.ytimg.com/vi/00NgUctWoLQ/default.jpg   \n",
       "2        NaN           NaN  https://yt3.ggpht.com/ytc/AKedOLTctGKJ32CdDLiS...   \n",
       "3  3110824.0      162796.0     https://i.ytimg.com/vi/ayXxwJJId_c/default.jpg   \n",
       "4  2359606.0      120621.0     https://i.ytimg.com/vi/cExLQ1o2pDw/default.jpg   \n",
       "5  2762425.0       83853.0     https://i.ytimg.com/vi/GLoeAJUcz38/default.jpg   \n",
       "6  2214006.0       94886.0     https://i.ytimg.com/vi/nM89Wl03Q4g/default.jpg   \n",
       "7  5379027.0      233576.0     https://i.ytimg.com/vi/9bqk6ZUsKyA/default.jpg   \n",
       "8  2080395.0       77842.0     https://i.ytimg.com/vi/HBMmK1c44sE/default.jpg   \n",
       "9  2612376.0      116266.0     https://i.ytimg.com/vi/vp5sSqyZ5Go/default.jpg   \n",
       "\n",
       "   ...  thumbnails.high.width  thumbnails.high.height contentDetails.duration  \\\n",
       "0  ...                  480.0                   360.0                PT14M21S   \n",
       "1  ...                  480.0                   360.0                 PT12M9S   \n",
       "2  ...                    NaN                     NaN                     NaN   \n",
       "3  ...                  480.0                   360.0                PT11M49S   \n",
       "4  ...                  480.0                   360.0                  PT8M2S   \n",
       "5  ...                  480.0                   360.0                PT15M11S   \n",
       "6  ...                  480.0                   360.0                PT12M34S   \n",
       "7  ...                  480.0                   360.0                PT12M40S   \n",
       "8  ...                  480.0                   360.0                PT11M59S   \n",
       "9  ...                  480.0                   360.0                PT10M25S   \n",
       "\n",
       "   contentDetails.dimension  \\\n",
       "0                        2d   \n",
       "1                        2d   \n",
       "2                       NaN   \n",
       "3                        2d   \n",
       "4                        2d   \n",
       "5                        2d   \n",
       "6                        2d   \n",
       "7                        2d   \n",
       "8                        2d   \n",
       "9                        2d   \n",
       "\n",
       "                        topicDetails.topicCategories snippet.defaultLanguage  \\\n",
       "0  ['https://en.wikipedia.org/wiki/Lifestyle_(soc...                     NaN   \n",
       "1  ['https://en.wikipedia.org/wiki/Lifestyle_(soc...                      en   \n",
       "2                                                NaN                     NaN   \n",
       "3  ['https://en.wikipedia.org/wiki/Lifestyle_(soc...                     NaN   \n",
       "4  ['https://en.wikipedia.org/wiki/Lifestyle_(soc...                     NaN   \n",
       "5  ['https://en.wikipedia.org/wiki/Lifestyle_(soc...                     NaN   \n",
       "6  ['https://en.wikipedia.org/wiki/Entertainment'...                     NaN   \n",
       "7  ['https://en.wikipedia.org/wiki/Lifestyle_(soc...                     NaN   \n",
       "8  ['https://en.wikipedia.org/wiki/Lifestyle_(soc...                     NaN   \n",
       "9  ['https://en.wikipedia.org/wiki/Hobby', 'https...                     NaN   \n",
       "\n",
       "             localizations.en.title  \\\n",
       "0                               NaN   \n",
       "1  Extreme $1,000,000 Hide And Seek   \n",
       "2                               NaN   \n",
       "3                               NaN   \n",
       "4                               NaN   \n",
       "5                               NaN   \n",
       "6                               NaN   \n",
       "7                               NaN   \n",
       "8                               NaN   \n",
       "9                               NaN   \n",
       "\n",
       "                        localizations.en.description snippet.tags  \\\n",
       "0                                                NaN          NaN   \n",
       "1  I didn't expect that to happen at the end I wa...          NaN   \n",
       "2                                                NaN          NaN   \n",
       "3                                                NaN          NaN   \n",
       "4                                                NaN          NaN   \n",
       "5                                                NaN          NaN   \n",
       "6                                                NaN          NaN   \n",
       "7                                                NaN          NaN   \n",
       "8                                                NaN          NaN   \n",
       "9                                                NaN          NaN   \n",
       "\n",
       "  contentDetails.contentRating.ytRating  \n",
       "0                                   NaN  \n",
       "1                                   NaN  \n",
       "2                                   NaN  \n",
       "3                                   NaN  \n",
       "4                                   NaN  \n",
       "5                                   NaN  \n",
       "6                                   NaN  \n",
       "7                                   NaN  \n",
       "8                                   NaN  \n",
       "9                                   NaN  \n",
       "\n",
       "[10 rows x 26 columns]"
      ]
     },
     "execution_count": 12,
     "metadata": {},
     "output_type": "execute_result"
    }
   ],
   "source": [
    "mydf.head(10)"
   ]
  },
  {
   "cell_type": "code",
   "execution_count": 13,
   "id": "7b07c817",
   "metadata": {
    "execution": {
     "iopub.execute_input": "2025-04-27T16:33:13.540702Z",
     "iopub.status.busy": "2025-04-27T16:33:13.540365Z",
     "iopub.status.idle": "2025-04-27T16:33:13.567309Z",
     "shell.execute_reply": "2025-04-27T16:33:13.566211Z"
    },
    "papermill": {
     "duration": 0.041605,
     "end_time": "2025-04-27T16:33:13.569157",
     "exception": false,
     "start_time": "2025-04-27T16:33:13.527552",
     "status": "completed"
    },
    "tags": []
   },
   "outputs": [
    {
     "data": {
      "text/html": [
       "<div>\n",
       "<style scoped>\n",
       "    .dataframe tbody tr th:only-of-type {\n",
       "        vertical-align: middle;\n",
       "    }\n",
       "\n",
       "    .dataframe tbody tr th {\n",
       "        vertical-align: top;\n",
       "    }\n",
       "\n",
       "    .dataframe thead th {\n",
       "        text-align: right;\n",
       "    }\n",
       "</style>\n",
       "<table border=\"1\" class=\"dataframe\">\n",
       "  <thead>\n",
       "    <tr style=\"text-align: right;\">\n",
       "      <th></th>\n",
       "      <th>id</th>\n",
       "      <th>title</th>\n",
       "      <th>description</th>\n",
       "      <th>publishTime</th>\n",
       "      <th>kind_stats</th>\n",
       "      <th>duration_seconds</th>\n",
       "      <th>viewCount</th>\n",
       "      <th>likeCount</th>\n",
       "      <th>commentCount</th>\n",
       "      <th>thumbnails.default.url</th>\n",
       "      <th>...</th>\n",
       "      <th>thumbnails.high.width</th>\n",
       "      <th>thumbnails.high.height</th>\n",
       "      <th>contentDetails.duration</th>\n",
       "      <th>contentDetails.dimension</th>\n",
       "      <th>topicDetails.topicCategories</th>\n",
       "      <th>snippet.defaultLanguage</th>\n",
       "      <th>localizations.en.title</th>\n",
       "      <th>localizations.en.description</th>\n",
       "      <th>snippet.tags</th>\n",
       "      <th>contentDetails.contentRating.ytRating</th>\n",
       "    </tr>\n",
       "  </thead>\n",
       "  <tbody>\n",
       "    <tr>\n",
       "      <th>237</th>\n",
       "      <td>dPxAFqs2eYE</td>\n",
       "      <td>Epic Ghost Multiplayer EasterEggs! (PrisonBrea...</td>\n",
       "      <td>These are three eastereggs I found in Ghost......</td>\n",
       "      <td>2013-11-17 18:26:11+00:00</td>\n",
       "      <td>youtube#video</td>\n",
       "      <td>100</td>\n",
       "      <td>37057.0</td>\n",
       "      <td>1560.0</td>\n",
       "      <td>213.0</td>\n",
       "      <td>https://i.ytimg.com/vi/dPxAFqs2eYE/default.jpg</td>\n",
       "      <td>...</td>\n",
       "      <td>480.0</td>\n",
       "      <td>360.0</td>\n",
       "      <td>PT1M40S</td>\n",
       "      <td>2d</td>\n",
       "      <td>['https://en.wikipedia.org/wiki/Action-adventu...</td>\n",
       "      <td>NaN</td>\n",
       "      <td>NaN</td>\n",
       "      <td>NaN</td>\n",
       "      <td>['Black', 'ops', 'two', 'must', 'see', 'gamepl...</td>\n",
       "      <td>NaN</td>\n",
       "    </tr>\n",
       "    <tr>\n",
       "      <th>238</th>\n",
       "      <td>moMJjt5KECc</td>\n",
       "      <td>Money Problems</td>\n",
       "      <td>This is a little different of a video and I ju...</td>\n",
       "      <td>2014-08-20 17:40:18+00:00</td>\n",
       "      <td>youtube#video</td>\n",
       "      <td>242</td>\n",
       "      <td>102688.0</td>\n",
       "      <td>2564.0</td>\n",
       "      <td>295.0</td>\n",
       "      <td>https://i.ytimg.com/vi/moMJjt5KECc/default.jpg</td>\n",
       "      <td>...</td>\n",
       "      <td>480.0</td>\n",
       "      <td>360.0</td>\n",
       "      <td>PT4M2S</td>\n",
       "      <td>2d</td>\n",
       "      <td>['https://en.wikipedia.org/wiki/Action-adventu...</td>\n",
       "      <td>NaN</td>\n",
       "      <td>NaN</td>\n",
       "      <td>NaN</td>\n",
       "      <td>['How', 'much', 'money', 'does', 'make', 'blac...</td>\n",
       "      <td>NaN</td>\n",
       "    </tr>\n",
       "    <tr>\n",
       "      <th>239</th>\n",
       "      <td>HuLAAXZXIy0</td>\n",
       "      <td>This Kid Should Quit COD....</td>\n",
       "      <td>The video says it all. ▻ Subscribe? - http://b...</td>\n",
       "      <td>2014-06-02 21:37:07+00:00</td>\n",
       "      <td>youtube#video</td>\n",
       "      <td>77</td>\n",
       "      <td>35121.0</td>\n",
       "      <td>784.0</td>\n",
       "      <td>139.0</td>\n",
       "      <td>https://i.ytimg.com/vi/HuLAAXZXIy0/default.jpg</td>\n",
       "      <td>...</td>\n",
       "      <td>480.0</td>\n",
       "      <td>360.0</td>\n",
       "      <td>PT1M17S</td>\n",
       "      <td>2d</td>\n",
       "      <td>['https://en.wikipedia.org/wiki/Action-adventu...</td>\n",
       "      <td>NaN</td>\n",
       "      <td>NaN</td>\n",
       "      <td>NaN</td>\n",
       "      <td>['mrbeast6000', 'titanfall', 'money', 'does', ...</td>\n",
       "      <td>NaN</td>\n",
       "    </tr>\n",
       "    <tr>\n",
       "      <th>240</th>\n",
       "      <td>NiqkH7qVW0U</td>\n",
       "      <td>100k Subs With No Videos????</td>\n",
       "      <td>I have lost my faith in humanity The channel ...</td>\n",
       "      <td>2015-04-11 16:51:40+00:00</td>\n",
       "      <td>youtube#video</td>\n",
       "      <td>257</td>\n",
       "      <td>378886.0</td>\n",
       "      <td>7538.0</td>\n",
       "      <td>2844.0</td>\n",
       "      <td>https://i.ytimg.com/vi/NiqkH7qVW0U/default.jpg</td>\n",
       "      <td>...</td>\n",
       "      <td>480.0</td>\n",
       "      <td>360.0</td>\n",
       "      <td>PT4M17S</td>\n",
       "      <td>2d</td>\n",
       "      <td>['https://en.wikipedia.org/wiki/Action-adventu...</td>\n",
       "      <td>NaN</td>\n",
       "      <td>NaN</td>\n",
       "      <td>NaN</td>\n",
       "      <td>['How', 'much', 'money', 'does', 'make', 'blac...</td>\n",
       "      <td>NaN</td>\n",
       "    </tr>\n",
       "    <tr>\n",
       "      <th>241</th>\n",
       "      <td>uUIlb2rpIuY</td>\n",
       "      <td>Epic Minecraft city! (w/ download link!)</td>\n",
       "      <td>This city is HUGE! I only show a little part o...</td>\n",
       "      <td>2013-04-11 01:00:01+00:00</td>\n",
       "      <td>youtube#video</td>\n",
       "      <td>154</td>\n",
       "      <td>142709.0</td>\n",
       "      <td>5172.0</td>\n",
       "      <td>741.0</td>\n",
       "      <td>https://i.ytimg.com/vi/uUIlb2rpIuY/default.jpg</td>\n",
       "      <td>...</td>\n",
       "      <td>480.0</td>\n",
       "      <td>360.0</td>\n",
       "      <td>PT2M34S</td>\n",
       "      <td>2d</td>\n",
       "      <td>['https://en.wikipedia.org/wiki/Action-adventu...</td>\n",
       "      <td>NaN</td>\n",
       "      <td>NaN</td>\n",
       "      <td>NaN</td>\n",
       "      <td>['epic', 'minecraft', 'city', 'download', 'link']</td>\n",
       "      <td>NaN</td>\n",
       "    </tr>\n",
       "    <tr>\n",
       "      <th>242</th>\n",
       "      <td>yeHjsYQ076A</td>\n",
       "      <td>Remember When COD Was Fun?</td>\n",
       "      <td>Yup, another very pointless video ▻ Subscribe?...</td>\n",
       "      <td>2015-04-26 21:26:36+00:00</td>\n",
       "      <td>youtube#video</td>\n",
       "      <td>216</td>\n",
       "      <td>16312.0</td>\n",
       "      <td>574.0</td>\n",
       "      <td>145.0</td>\n",
       "      <td>https://i.ytimg.com/vi/yeHjsYQ076A/default.jpg</td>\n",
       "      <td>...</td>\n",
       "      <td>480.0</td>\n",
       "      <td>360.0</td>\n",
       "      <td>PT3M36S</td>\n",
       "      <td>2d</td>\n",
       "      <td>['https://en.wikipedia.org/wiki/Action-adventu...</td>\n",
       "      <td>NaN</td>\n",
       "      <td>NaN</td>\n",
       "      <td>NaN</td>\n",
       "      <td>['How', 'much', 'money', 'does', 'make', 'blac...</td>\n",
       "      <td>NaN</td>\n",
       "    </tr>\n",
       "    <tr>\n",
       "      <th>243</th>\n",
       "      <td>X7doE4h6W64</td>\n",
       "      <td>Insane Gun Sync - 7 Hours To Make</td>\n",
       "      <td>Look at this - http://gyazo.com/8852509d2350db...</td>\n",
       "      <td>2015-06-21 12:22:34+00:00</td>\n",
       "      <td>youtube#video</td>\n",
       "      <td>134</td>\n",
       "      <td>15740.0</td>\n",
       "      <td>637.0</td>\n",
       "      <td>105.0</td>\n",
       "      <td>https://i.ytimg.com/vi/X7doE4h6W64/default.jpg</td>\n",
       "      <td>...</td>\n",
       "      <td>480.0</td>\n",
       "      <td>360.0</td>\n",
       "      <td>PT2M14S</td>\n",
       "      <td>2d</td>\n",
       "      <td>['https://en.wikipedia.org/wiki/Action-adventu...</td>\n",
       "      <td>NaN</td>\n",
       "      <td>NaN</td>\n",
       "      <td>NaN</td>\n",
       "      <td>['How', 'much', 'money', 'does', 'make', 'blac...</td>\n",
       "      <td>NaN</td>\n",
       "    </tr>\n",
       "    <tr>\n",
       "      <th>244</th>\n",
       "      <td>AIytwdufwW8</td>\n",
       "      <td>MY MESSAGE TO COD YOUTUBERS (Watch till end plz)</td>\n",
       "      <td>The beginning of the video is a little off top...</td>\n",
       "      <td>2015-05-29 20:07:48+00:00</td>\n",
       "      <td>youtube#video</td>\n",
       "      <td>292</td>\n",
       "      <td>18502.0</td>\n",
       "      <td>508.0</td>\n",
       "      <td>117.0</td>\n",
       "      <td>https://i.ytimg.com/vi/AIytwdufwW8/default.jpg</td>\n",
       "      <td>...</td>\n",
       "      <td>480.0</td>\n",
       "      <td>360.0</td>\n",
       "      <td>PT4M52S</td>\n",
       "      <td>2d</td>\n",
       "      <td>['https://en.wikipedia.org/wiki/Action-adventu...</td>\n",
       "      <td>NaN</td>\n",
       "      <td>NaN</td>\n",
       "      <td>NaN</td>\n",
       "      <td>['How', 'much', 'money', 'does', 'make', 'blac...</td>\n",
       "      <td>NaN</td>\n",
       "    </tr>\n",
       "    <tr>\n",
       "      <th>245</th>\n",
       "      <td>56OkH6ocYZU</td>\n",
       "      <td>L0114R - Biblical Creeper Post for Post @L0114R</td>\n",
       "      <td>His channel - https://www.youtube.com/user/the...</td>\n",
       "      <td>2015-05-15 16:48:54+00:00</td>\n",
       "      <td>youtube#video</td>\n",
       "      <td>109</td>\n",
       "      <td>16627.0</td>\n",
       "      <td>430.0</td>\n",
       "      <td>134.0</td>\n",
       "      <td>https://i.ytimg.com/vi/56OkH6ocYZU/default.jpg</td>\n",
       "      <td>...</td>\n",
       "      <td>480.0</td>\n",
       "      <td>360.0</td>\n",
       "      <td>PT1M49S</td>\n",
       "      <td>2d</td>\n",
       "      <td>['https://en.wikipedia.org/wiki/Action-adventu...</td>\n",
       "      <td>NaN</td>\n",
       "      <td>NaN</td>\n",
       "      <td>NaN</td>\n",
       "      <td>['How', 'much', 'money', 'does', 'make', 'blac...</td>\n",
       "      <td>NaN</td>\n",
       "    </tr>\n",
       "    <tr>\n",
       "      <th>246</th>\n",
       "      <td>zi7tZ-2PhLk</td>\n",
       "      <td>How Much Money Do You Make As An Uber Driver??...</td>\n",
       "      <td>In this video I talk about being an uber drive...</td>\n",
       "      <td>2015-05-31 18:31:25+00:00</td>\n",
       "      <td>youtube#video</td>\n",
       "      <td>304</td>\n",
       "      <td>18773.0</td>\n",
       "      <td>370.0</td>\n",
       "      <td>59.0</td>\n",
       "      <td>https://i.ytimg.com/vi/zi7tZ-2PhLk/default.jpg</td>\n",
       "      <td>...</td>\n",
       "      <td>480.0</td>\n",
       "      <td>360.0</td>\n",
       "      <td>PT5M4S</td>\n",
       "      <td>2d</td>\n",
       "      <td>['https://en.wikipedia.org/wiki/Action-adventu...</td>\n",
       "      <td>NaN</td>\n",
       "      <td>NaN</td>\n",
       "      <td>NaN</td>\n",
       "      <td>['How', 'much', 'money', 'does', 'make', 'blac...</td>\n",
       "      <td>NaN</td>\n",
       "    </tr>\n",
       "  </tbody>\n",
       "</table>\n",
       "<p>10 rows × 26 columns</p>\n",
       "</div>"
      ],
      "text/plain": [
       "              id                                              title  \\\n",
       "237  dPxAFqs2eYE  Epic Ghost Multiplayer EasterEggs! (PrisonBrea...   \n",
       "238  moMJjt5KECc                                     Money Problems   \n",
       "239  HuLAAXZXIy0                       This Kid Should Quit COD....   \n",
       "240  NiqkH7qVW0U                       100k Subs With No Videos????   \n",
       "241  uUIlb2rpIuY           Epic Minecraft city! (w/ download link!)   \n",
       "242  yeHjsYQ076A                         Remember When COD Was Fun?   \n",
       "243  X7doE4h6W64                  Insane Gun Sync - 7 Hours To Make   \n",
       "244  AIytwdufwW8   MY MESSAGE TO COD YOUTUBERS (Watch till end plz)   \n",
       "245  56OkH6ocYZU    L0114R - Biblical Creeper Post for Post @L0114R   \n",
       "246  zi7tZ-2PhLk  How Much Money Do You Make As An Uber Driver??...   \n",
       "\n",
       "                                           description  \\\n",
       "237  These are three eastereggs I found in Ghost......   \n",
       "238  This is a little different of a video and I ju...   \n",
       "239  The video says it all. ▻ Subscribe? - http://b...   \n",
       "240   I have lost my faith in humanity The channel ...   \n",
       "241  This city is HUGE! I only show a little part o...   \n",
       "242  Yup, another very pointless video ▻ Subscribe?...   \n",
       "243  Look at this - http://gyazo.com/8852509d2350db...   \n",
       "244  The beginning of the video is a little off top...   \n",
       "245  His channel - https://www.youtube.com/user/the...   \n",
       "246  In this video I talk about being an uber drive...   \n",
       "\n",
       "                   publishTime     kind_stats  duration_seconds  viewCount  \\\n",
       "237  2013-11-17 18:26:11+00:00  youtube#video               100    37057.0   \n",
       "238  2014-08-20 17:40:18+00:00  youtube#video               242   102688.0   \n",
       "239  2014-06-02 21:37:07+00:00  youtube#video                77    35121.0   \n",
       "240  2015-04-11 16:51:40+00:00  youtube#video               257   378886.0   \n",
       "241  2013-04-11 01:00:01+00:00  youtube#video               154   142709.0   \n",
       "242  2015-04-26 21:26:36+00:00  youtube#video               216    16312.0   \n",
       "243  2015-06-21 12:22:34+00:00  youtube#video               134    15740.0   \n",
       "244  2015-05-29 20:07:48+00:00  youtube#video               292    18502.0   \n",
       "245  2015-05-15 16:48:54+00:00  youtube#video               109    16627.0   \n",
       "246  2015-05-31 18:31:25+00:00  youtube#video               304    18773.0   \n",
       "\n",
       "     likeCount  commentCount                          thumbnails.default.url  \\\n",
       "237     1560.0         213.0  https://i.ytimg.com/vi/dPxAFqs2eYE/default.jpg   \n",
       "238     2564.0         295.0  https://i.ytimg.com/vi/moMJjt5KECc/default.jpg   \n",
       "239      784.0         139.0  https://i.ytimg.com/vi/HuLAAXZXIy0/default.jpg   \n",
       "240     7538.0        2844.0  https://i.ytimg.com/vi/NiqkH7qVW0U/default.jpg   \n",
       "241     5172.0         741.0  https://i.ytimg.com/vi/uUIlb2rpIuY/default.jpg   \n",
       "242      574.0         145.0  https://i.ytimg.com/vi/yeHjsYQ076A/default.jpg   \n",
       "243      637.0         105.0  https://i.ytimg.com/vi/X7doE4h6W64/default.jpg   \n",
       "244      508.0         117.0  https://i.ytimg.com/vi/AIytwdufwW8/default.jpg   \n",
       "245      430.0         134.0  https://i.ytimg.com/vi/56OkH6ocYZU/default.jpg   \n",
       "246      370.0          59.0  https://i.ytimg.com/vi/zi7tZ-2PhLk/default.jpg   \n",
       "\n",
       "     ...  thumbnails.high.width  thumbnails.high.height  \\\n",
       "237  ...                  480.0                   360.0   \n",
       "238  ...                  480.0                   360.0   \n",
       "239  ...                  480.0                   360.0   \n",
       "240  ...                  480.0                   360.0   \n",
       "241  ...                  480.0                   360.0   \n",
       "242  ...                  480.0                   360.0   \n",
       "243  ...                  480.0                   360.0   \n",
       "244  ...                  480.0                   360.0   \n",
       "245  ...                  480.0                   360.0   \n",
       "246  ...                  480.0                   360.0   \n",
       "\n",
       "    contentDetails.duration  contentDetails.dimension  \\\n",
       "237                 PT1M40S                        2d   \n",
       "238                  PT4M2S                        2d   \n",
       "239                 PT1M17S                        2d   \n",
       "240                 PT4M17S                        2d   \n",
       "241                 PT2M34S                        2d   \n",
       "242                 PT3M36S                        2d   \n",
       "243                 PT2M14S                        2d   \n",
       "244                 PT4M52S                        2d   \n",
       "245                 PT1M49S                        2d   \n",
       "246                  PT5M4S                        2d   \n",
       "\n",
       "                          topicDetails.topicCategories  \\\n",
       "237  ['https://en.wikipedia.org/wiki/Action-adventu...   \n",
       "238  ['https://en.wikipedia.org/wiki/Action-adventu...   \n",
       "239  ['https://en.wikipedia.org/wiki/Action-adventu...   \n",
       "240  ['https://en.wikipedia.org/wiki/Action-adventu...   \n",
       "241  ['https://en.wikipedia.org/wiki/Action-adventu...   \n",
       "242  ['https://en.wikipedia.org/wiki/Action-adventu...   \n",
       "243  ['https://en.wikipedia.org/wiki/Action-adventu...   \n",
       "244  ['https://en.wikipedia.org/wiki/Action-adventu...   \n",
       "245  ['https://en.wikipedia.org/wiki/Action-adventu...   \n",
       "246  ['https://en.wikipedia.org/wiki/Action-adventu...   \n",
       "\n",
       "    snippet.defaultLanguage  localizations.en.title  \\\n",
       "237                     NaN                     NaN   \n",
       "238                     NaN                     NaN   \n",
       "239                     NaN                     NaN   \n",
       "240                     NaN                     NaN   \n",
       "241                     NaN                     NaN   \n",
       "242                     NaN                     NaN   \n",
       "243                     NaN                     NaN   \n",
       "244                     NaN                     NaN   \n",
       "245                     NaN                     NaN   \n",
       "246                     NaN                     NaN   \n",
       "\n",
       "     localizations.en.description  \\\n",
       "237                           NaN   \n",
       "238                           NaN   \n",
       "239                           NaN   \n",
       "240                           NaN   \n",
       "241                           NaN   \n",
       "242                           NaN   \n",
       "243                           NaN   \n",
       "244                           NaN   \n",
       "245                           NaN   \n",
       "246                           NaN   \n",
       "\n",
       "                                          snippet.tags  \\\n",
       "237  ['Black', 'ops', 'two', 'must', 'see', 'gamepl...   \n",
       "238  ['How', 'much', 'money', 'does', 'make', 'blac...   \n",
       "239  ['mrbeast6000', 'titanfall', 'money', 'does', ...   \n",
       "240  ['How', 'much', 'money', 'does', 'make', 'blac...   \n",
       "241  ['epic', 'minecraft', 'city', 'download', 'link']   \n",
       "242  ['How', 'much', 'money', 'does', 'make', 'blac...   \n",
       "243  ['How', 'much', 'money', 'does', 'make', 'blac...   \n",
       "244  ['How', 'much', 'money', 'does', 'make', 'blac...   \n",
       "245  ['How', 'much', 'money', 'does', 'make', 'blac...   \n",
       "246  ['How', 'much', 'money', 'does', 'make', 'blac...   \n",
       "\n",
       "    contentDetails.contentRating.ytRating  \n",
       "237                                   NaN  \n",
       "238                                   NaN  \n",
       "239                                   NaN  \n",
       "240                                   NaN  \n",
       "241                                   NaN  \n",
       "242                                   NaN  \n",
       "243                                   NaN  \n",
       "244                                   NaN  \n",
       "245                                   NaN  \n",
       "246                                   NaN  \n",
       "\n",
       "[10 rows x 26 columns]"
      ]
     },
     "execution_count": 13,
     "metadata": {},
     "output_type": "execute_result"
    }
   ],
   "source": [
    "mydf.tail(10)"
   ]
  },
  {
   "cell_type": "code",
   "execution_count": 14,
   "id": "99777a39",
   "metadata": {
    "execution": {
     "iopub.execute_input": "2025-04-27T16:33:13.595773Z",
     "iopub.status.busy": "2025-04-27T16:33:13.595272Z",
     "iopub.status.idle": "2025-04-27T16:33:13.603730Z",
     "shell.execute_reply": "2025-04-27T16:33:13.602188Z"
    },
    "papermill": {
     "duration": 0.024497,
     "end_time": "2025-04-27T16:33:13.605727",
     "exception": false,
     "start_time": "2025-04-27T16:33:13.581230",
     "status": "completed"
    },
    "tags": []
   },
   "outputs": [
    {
     "data": {
      "text/plain": [
       "id                                        object\n",
       "title                                     object\n",
       "description                               object\n",
       "publishTime                               object\n",
       "kind_stats                                object\n",
       "duration_seconds                           int64\n",
       "viewCount                                float64\n",
       "likeCount                                float64\n",
       "commentCount                             float64\n",
       "thumbnails.default.url                    object\n",
       "thumbnails.default.width                 float64\n",
       "thumbnails.default.height                float64\n",
       "thumbnails.medium.url                     object\n",
       "thumbnails.medium.width                  float64\n",
       "thumbnails.medium.height                 float64\n",
       "thumbnails.high.url                       object\n",
       "thumbnails.high.width                    float64\n",
       "thumbnails.high.height                   float64\n",
       "contentDetails.duration                   object\n",
       "contentDetails.dimension                  object\n",
       "topicDetails.topicCategories              object\n",
       "snippet.defaultLanguage                   object\n",
       "localizations.en.title                    object\n",
       "localizations.en.description              object\n",
       "snippet.tags                              object\n",
       "contentDetails.contentRating.ytRating     object\n",
       "dtype: object"
      ]
     },
     "execution_count": 14,
     "metadata": {},
     "output_type": "execute_result"
    }
   ],
   "source": [
    "mydf.dtypes"
   ]
  },
  {
   "cell_type": "code",
   "execution_count": 15,
   "id": "1f622df0",
   "metadata": {
    "execution": {
     "iopub.execute_input": "2025-04-27T16:33:13.632399Z",
     "iopub.status.busy": "2025-04-27T16:33:13.631951Z",
     "iopub.status.idle": "2025-04-27T16:33:13.684253Z",
     "shell.execute_reply": "2025-04-27T16:33:13.682663Z"
    },
    "papermill": {
     "duration": 0.067813,
     "end_time": "2025-04-27T16:33:13.686326",
     "exception": false,
     "start_time": "2025-04-27T16:33:13.618513",
     "status": "completed"
    },
    "tags": []
   },
   "outputs": [
    {
     "data": {
      "text/html": [
       "<div>\n",
       "<style scoped>\n",
       "    .dataframe tbody tr th:only-of-type {\n",
       "        vertical-align: middle;\n",
       "    }\n",
       "\n",
       "    .dataframe tbody tr th {\n",
       "        vertical-align: top;\n",
       "    }\n",
       "\n",
       "    .dataframe thead th {\n",
       "        text-align: right;\n",
       "    }\n",
       "</style>\n",
       "<table border=\"1\" class=\"dataframe\">\n",
       "  <thead>\n",
       "    <tr style=\"text-align: right;\">\n",
       "      <th></th>\n",
       "      <th>duration_seconds</th>\n",
       "      <th>viewCount</th>\n",
       "      <th>likeCount</th>\n",
       "      <th>commentCount</th>\n",
       "      <th>thumbnails.default.width</th>\n",
       "      <th>thumbnails.default.height</th>\n",
       "      <th>thumbnails.medium.width</th>\n",
       "      <th>thumbnails.medium.height</th>\n",
       "      <th>thumbnails.high.width</th>\n",
       "      <th>thumbnails.high.height</th>\n",
       "    </tr>\n",
       "  </thead>\n",
       "  <tbody>\n",
       "    <tr>\n",
       "      <th>count</th>\n",
       "      <td>247.000000</td>\n",
       "      <td>2.460000e+02</td>\n",
       "      <td>2.440000e+02</td>\n",
       "      <td>245.000000</td>\n",
       "      <td>246.0</td>\n",
       "      <td>246.0</td>\n",
       "      <td>246.0</td>\n",
       "      <td>246.0</td>\n",
       "      <td>246.0</td>\n",
       "      <td>246.0</td>\n",
       "    </tr>\n",
       "    <tr>\n",
       "      <th>mean</th>\n",
       "      <td>1886.234818</td>\n",
       "      <td>5.084638e+07</td>\n",
       "      <td>1.610498e+06</td>\n",
       "      <td>75562.783673</td>\n",
       "      <td>120.0</td>\n",
       "      <td>90.0</td>\n",
       "      <td>320.0</td>\n",
       "      <td>180.0</td>\n",
       "      <td>480.0</td>\n",
       "      <td>360.0</td>\n",
       "    </tr>\n",
       "    <tr>\n",
       "      <th>std</th>\n",
       "      <td>8642.188728</td>\n",
       "      <td>4.062672e+07</td>\n",
       "      <td>1.879529e+06</td>\n",
       "      <td>85356.537127</td>\n",
       "      <td>0.0</td>\n",
       "      <td>0.0</td>\n",
       "      <td>0.0</td>\n",
       "      <td>0.0</td>\n",
       "      <td>0.0</td>\n",
       "      <td>0.0</td>\n",
       "    </tr>\n",
       "    <tr>\n",
       "      <th>min</th>\n",
       "      <td>0.000000</td>\n",
       "      <td>1.395400e+04</td>\n",
       "      <td>3.700000e+02</td>\n",
       "      <td>59.000000</td>\n",
       "      <td>120.0</td>\n",
       "      <td>90.0</td>\n",
       "      <td>320.0</td>\n",
       "      <td>180.0</td>\n",
       "      <td>480.0</td>\n",
       "      <td>360.0</td>\n",
       "    </tr>\n",
       "    <tr>\n",
       "      <th>25%</th>\n",
       "      <td>425.500000</td>\n",
       "      <td>1.406442e+07</td>\n",
       "      <td>4.348780e+05</td>\n",
       "      <td>21552.000000</td>\n",
       "      <td>120.0</td>\n",
       "      <td>90.0</td>\n",
       "      <td>320.0</td>\n",
       "      <td>180.0</td>\n",
       "      <td>480.0</td>\n",
       "      <td>360.0</td>\n",
       "    </tr>\n",
       "    <tr>\n",
       "      <th>50%</th>\n",
       "      <td>776.000000</td>\n",
       "      <td>4.904782e+07</td>\n",
       "      <td>1.358232e+06</td>\n",
       "      <td>60701.000000</td>\n",
       "      <td>120.0</td>\n",
       "      <td>90.0</td>\n",
       "      <td>320.0</td>\n",
       "      <td>180.0</td>\n",
       "      <td>480.0</td>\n",
       "      <td>360.0</td>\n",
       "    </tr>\n",
       "    <tr>\n",
       "      <th>75%</th>\n",
       "      <td>923.000000</td>\n",
       "      <td>8.125392e+07</td>\n",
       "      <td>2.294378e+06</td>\n",
       "      <td>99670.000000</td>\n",
       "      <td>120.0</td>\n",
       "      <td>90.0</td>\n",
       "      <td>320.0</td>\n",
       "      <td>180.0</td>\n",
       "      <td>480.0</td>\n",
       "      <td>360.0</td>\n",
       "    </tr>\n",
       "    <tr>\n",
       "      <th>max</th>\n",
       "      <td>85686.000000</td>\n",
       "      <td>1.787632e+08</td>\n",
       "      <td>1.904943e+07</td>\n",
       "      <td>726861.000000</td>\n",
       "      <td>120.0</td>\n",
       "      <td>90.0</td>\n",
       "      <td>320.0</td>\n",
       "      <td>180.0</td>\n",
       "      <td>480.0</td>\n",
       "      <td>360.0</td>\n",
       "    </tr>\n",
       "  </tbody>\n",
       "</table>\n",
       "</div>"
      ],
      "text/plain": [
       "       duration_seconds     viewCount     likeCount   commentCount  \\\n",
       "count        247.000000  2.460000e+02  2.440000e+02     245.000000   \n",
       "mean        1886.234818  5.084638e+07  1.610498e+06   75562.783673   \n",
       "std         8642.188728  4.062672e+07  1.879529e+06   85356.537127   \n",
       "min            0.000000  1.395400e+04  3.700000e+02      59.000000   \n",
       "25%          425.500000  1.406442e+07  4.348780e+05   21552.000000   \n",
       "50%          776.000000  4.904782e+07  1.358232e+06   60701.000000   \n",
       "75%          923.000000  8.125392e+07  2.294378e+06   99670.000000   \n",
       "max        85686.000000  1.787632e+08  1.904943e+07  726861.000000   \n",
       "\n",
       "       thumbnails.default.width  thumbnails.default.height  \\\n",
       "count                     246.0                      246.0   \n",
       "mean                      120.0                       90.0   \n",
       "std                         0.0                        0.0   \n",
       "min                       120.0                       90.0   \n",
       "25%                       120.0                       90.0   \n",
       "50%                       120.0                       90.0   \n",
       "75%                       120.0                       90.0   \n",
       "max                       120.0                       90.0   \n",
       "\n",
       "       thumbnails.medium.width  thumbnails.medium.height  \\\n",
       "count                    246.0                     246.0   \n",
       "mean                     320.0                     180.0   \n",
       "std                        0.0                       0.0   \n",
       "min                      320.0                     180.0   \n",
       "25%                      320.0                     180.0   \n",
       "50%                      320.0                     180.0   \n",
       "75%                      320.0                     180.0   \n",
       "max                      320.0                     180.0   \n",
       "\n",
       "       thumbnails.high.width  thumbnails.high.height  \n",
       "count                  246.0                   246.0  \n",
       "mean                   480.0                   360.0  \n",
       "std                      0.0                     0.0  \n",
       "min                    480.0                   360.0  \n",
       "25%                    480.0                   360.0  \n",
       "50%                    480.0                   360.0  \n",
       "75%                    480.0                   360.0  \n",
       "max                    480.0                   360.0  "
      ]
     },
     "execution_count": 15,
     "metadata": {},
     "output_type": "execute_result"
    }
   ],
   "source": [
    "mydf.describe()"
   ]
  },
  {
   "cell_type": "markdown",
   "id": "abcc9f25",
   "metadata": {
    "papermill": {
     "duration": 0.01284,
     "end_time": "2025-04-27T16:33:13.712626",
     "exception": false,
     "start_time": "2025-04-27T16:33:13.699786",
     "status": "completed"
    },
    "tags": []
   },
   "source": [
    "# Columns and Rows"
   ]
  },
  {
   "cell_type": "code",
   "execution_count": 16,
   "id": "f912a8d6",
   "metadata": {
    "execution": {
     "iopub.execute_input": "2025-04-27T16:33:13.740467Z",
     "iopub.status.busy": "2025-04-27T16:33:13.740104Z",
     "iopub.status.idle": "2025-04-27T16:33:13.749818Z",
     "shell.execute_reply": "2025-04-27T16:33:13.748418Z"
    },
    "papermill": {
     "duration": 0.026275,
     "end_time": "2025-04-27T16:33:13.751626",
     "exception": false,
     "start_time": "2025-04-27T16:33:13.725351",
     "status": "completed"
    },
    "tags": []
   },
   "outputs": [
    {
     "name": "stderr",
     "output_type": "stream",
     "text": [
      "/usr/local/lib/python3.10/dist-packages/pandas/io/formats/format.py:1458: RuntimeWarning: invalid value encountered in greater\n",
      "  has_large_values = (abs_vals > 1e6).any()\n",
      "/usr/local/lib/python3.10/dist-packages/pandas/io/formats/format.py:1459: RuntimeWarning: invalid value encountered in less\n",
      "  has_small_values = ((abs_vals < 10 ** (-self.digits)) & (abs_vals > 0)).any()\n",
      "/usr/local/lib/python3.10/dist-packages/pandas/io/formats/format.py:1459: RuntimeWarning: invalid value encountered in greater\n",
      "  has_small_values = ((abs_vals < 10 ** (-self.digits)) & (abs_vals > 0)).any()\n"
     ]
    },
    {
     "data": {
      "text/plain": [
       "0       84717282.0\n",
       "1       32090178.0\n",
       "2              NaN\n",
       "3      101745632.0\n",
       "4       50008942.0\n",
       "          ...     \n",
       "242        16312.0\n",
       "243        15740.0\n",
       "244        18502.0\n",
       "245        16627.0\n",
       "246        18773.0\n",
       "Name: viewCount, Length: 247, dtype: float64"
      ]
     },
     "execution_count": 16,
     "metadata": {},
     "output_type": "execute_result"
    }
   ],
   "source": [
    "mydf['viewCount']"
   ]
  },
  {
   "cell_type": "code",
   "execution_count": 17,
   "id": "69c04da2",
   "metadata": {
    "execution": {
     "iopub.execute_input": "2025-04-27T16:33:13.779217Z",
     "iopub.status.busy": "2025-04-27T16:33:13.778740Z",
     "iopub.status.idle": "2025-04-27T16:33:13.784956Z",
     "shell.execute_reply": "2025-04-27T16:33:13.783355Z"
    },
    "papermill": {
     "duration": 0.023073,
     "end_time": "2025-04-27T16:33:13.787235",
     "exception": false,
     "start_time": "2025-04-27T16:33:13.764162",
     "status": "completed"
    },
    "tags": []
   },
   "outputs": [],
   "source": [
    "df = mydf.set_index('id')"
   ]
  },
  {
   "cell_type": "code",
   "execution_count": 18,
   "id": "be9e6d3a",
   "metadata": {
    "execution": {
     "iopub.execute_input": "2025-04-27T16:33:13.813934Z",
     "iopub.status.busy": "2025-04-27T16:33:13.813422Z",
     "iopub.status.idle": "2025-04-27T16:33:13.824734Z",
     "shell.execute_reply": "2025-04-27T16:33:13.823396Z"
    },
    "papermill": {
     "duration": 0.027364,
     "end_time": "2025-04-27T16:33:13.827061",
     "exception": false,
     "start_time": "2025-04-27T16:33:13.799697",
     "status": "completed"
    },
    "tags": []
   },
   "outputs": [
    {
     "data": {
      "text/plain": [
       "title                                                 I Got Hunted By A Real Bounty Hunter\n",
       "description                              Sign up for Current w/ my Creator Code \"BEAST\"...\n",
       "publishTime                                                      2021-04-24 20:00:00+00:00\n",
       "kind_stats                                                                   youtube#video\n",
       "duration_seconds                                                                       861\n",
       "viewCount                                                                       84717282.0\n",
       "likeCount                                                                        2876493.0\n",
       "commentCount                                                                      128922.0\n",
       "thumbnails.default.url                      https://i.ytimg.com/vi/TQHEJj68Jew/default.jpg\n",
       "thumbnails.default.width                                                             120.0\n",
       "thumbnails.default.height                                                             90.0\n",
       "thumbnails.medium.url                     https://i.ytimg.com/vi/TQHEJj68Jew/mqdefault.jpg\n",
       "thumbnails.medium.width                                                              320.0\n",
       "thumbnails.medium.height                                                             180.0\n",
       "thumbnails.high.url                       https://i.ytimg.com/vi/TQHEJj68Jew/hqdefault.jpg\n",
       "thumbnails.high.width                                                                480.0\n",
       "thumbnails.high.height                                                               360.0\n",
       "contentDetails.duration                                                           PT14M21S\n",
       "contentDetails.dimension                                                                2d\n",
       "topicDetails.topicCategories             ['https://en.wikipedia.org/wiki/Lifestyle_(soc...\n",
       "snippet.defaultLanguage                                                                NaN\n",
       "localizations.en.title                                                                 NaN\n",
       "localizations.en.description                                                           NaN\n",
       "snippet.tags                                                                           NaN\n",
       "contentDetails.contentRating.ytRating                                                  NaN\n",
       "Name: TQHEJj68Jew, dtype: object"
      ]
     },
     "execution_count": 18,
     "metadata": {},
     "output_type": "execute_result"
    }
   ],
   "source": [
    "df.loc['TQHEJj68Jew']"
   ]
  },
  {
   "cell_type": "markdown",
   "id": "646cf947",
   "metadata": {
    "papermill": {
     "duration": 0.012934,
     "end_time": "2025-04-27T16:33:13.853468",
     "exception": false,
     "start_time": "2025-04-27T16:33:13.840534",
     "status": "completed"
    },
    "tags": []
   },
   "source": [
    "# Subsetting Data"
   ]
  },
  {
   "cell_type": "code",
   "execution_count": 19,
   "id": "bf6e95ce",
   "metadata": {
    "execution": {
     "iopub.execute_input": "2025-04-27T16:33:13.881021Z",
     "iopub.status.busy": "2025-04-27T16:33:13.880683Z",
     "iopub.status.idle": "2025-04-27T16:33:13.887411Z",
     "shell.execute_reply": "2025-04-27T16:33:13.886156Z"
    },
    "papermill": {
     "duration": 0.023052,
     "end_time": "2025-04-27T16:33:13.889679",
     "exception": false,
     "start_time": "2025-04-27T16:33:13.866627",
     "status": "completed"
    },
    "tags": []
   },
   "outputs": [
    {
     "data": {
      "text/plain": [
       "Index(['title', 'description', 'publishTime', 'kind_stats', 'duration_seconds',\n",
       "       'viewCount', 'likeCount', 'commentCount', 'thumbnails.default.url',\n",
       "       'thumbnails.default.width', 'thumbnails.default.height',\n",
       "       'thumbnails.medium.url', 'thumbnails.medium.width',\n",
       "       'thumbnails.medium.height', 'thumbnails.high.url',\n",
       "       'thumbnails.high.width', 'thumbnails.high.height',\n",
       "       'contentDetails.duration', 'contentDetails.dimension',\n",
       "       'topicDetails.topicCategories', 'snippet.defaultLanguage',\n",
       "       'localizations.en.title', 'localizations.en.description',\n",
       "       'snippet.tags', 'contentDetails.contentRating.ytRating'],\n",
       "      dtype='object')"
      ]
     },
     "execution_count": 19,
     "metadata": {},
     "output_type": "execute_result"
    }
   ],
   "source": [
    "df.columns"
   ]
  },
  {
   "cell_type": "code",
   "execution_count": 20,
   "id": "a0765b64",
   "metadata": {
    "execution": {
     "iopub.execute_input": "2025-04-27T16:33:13.918200Z",
     "iopub.status.busy": "2025-04-27T16:33:13.917774Z",
     "iopub.status.idle": "2025-04-27T16:33:13.923522Z",
     "shell.execute_reply": "2025-04-27T16:33:13.922221Z"
    },
    "papermill": {
     "duration": 0.021861,
     "end_time": "2025-04-27T16:33:13.925536",
     "exception": false,
     "start_time": "2025-04-27T16:33:13.903675",
     "status": "completed"
    },
    "tags": []
   },
   "outputs": [],
   "source": [
    "#Subsetting Columns\n",
    "df = df[['title', 'description', 'publishTime', 'kind_stats','duration_seconds', 'viewCount', 'likeCount','commentCount']]"
   ]
  },
  {
   "cell_type": "code",
   "execution_count": 21,
   "id": "4c5bbfff",
   "metadata": {
    "execution": {
     "iopub.execute_input": "2025-04-27T16:33:13.953816Z",
     "iopub.status.busy": "2025-04-27T16:33:13.953449Z",
     "iopub.status.idle": "2025-04-27T16:33:13.970544Z",
     "shell.execute_reply": "2025-04-27T16:33:13.969365Z"
    },
    "papermill": {
     "duration": 0.033484,
     "end_time": "2025-04-27T16:33:13.972459",
     "exception": false,
     "start_time": "2025-04-27T16:33:13.938975",
     "status": "completed"
    },
    "tags": []
   },
   "outputs": [
    {
     "name": "stderr",
     "output_type": "stream",
     "text": [
      "/usr/local/lib/python3.10/dist-packages/pandas/io/formats/format.py:1458: RuntimeWarning: invalid value encountered in greater\n",
      "  has_large_values = (abs_vals > 1e6).any()\n",
      "/usr/local/lib/python3.10/dist-packages/pandas/io/formats/format.py:1459: RuntimeWarning: invalid value encountered in less\n",
      "  has_small_values = ((abs_vals < 10 ** (-self.digits)) & (abs_vals > 0)).any()\n",
      "/usr/local/lib/python3.10/dist-packages/pandas/io/formats/format.py:1459: RuntimeWarning: invalid value encountered in greater\n",
      "  has_small_values = ((abs_vals < 10 ** (-self.digits)) & (abs_vals > 0)).any()\n"
     ]
    },
    {
     "data": {
      "text/html": [
       "<div>\n",
       "<style scoped>\n",
       "    .dataframe tbody tr th:only-of-type {\n",
       "        vertical-align: middle;\n",
       "    }\n",
       "\n",
       "    .dataframe tbody tr th {\n",
       "        vertical-align: top;\n",
       "    }\n",
       "\n",
       "    .dataframe thead th {\n",
       "        text-align: right;\n",
       "    }\n",
       "</style>\n",
       "<table border=\"1\" class=\"dataframe\">\n",
       "  <thead>\n",
       "    <tr style=\"text-align: right;\">\n",
       "      <th></th>\n",
       "      <th>title</th>\n",
       "      <th>description</th>\n",
       "      <th>publishTime</th>\n",
       "      <th>kind_stats</th>\n",
       "      <th>duration_seconds</th>\n",
       "      <th>viewCount</th>\n",
       "      <th>likeCount</th>\n",
       "      <th>commentCount</th>\n",
       "    </tr>\n",
       "    <tr>\n",
       "      <th>id</th>\n",
       "      <th></th>\n",
       "      <th></th>\n",
       "      <th></th>\n",
       "      <th></th>\n",
       "      <th></th>\n",
       "      <th></th>\n",
       "      <th></th>\n",
       "      <th></th>\n",
       "    </tr>\n",
       "  </thead>\n",
       "  <tbody>\n",
       "    <tr>\n",
       "      <th>TQHEJj68Jew</th>\n",
       "      <td>I Got Hunted By A Real Bounty Hunter</td>\n",
       "      <td>Sign up for Current w/ my Creator Code \"BEAST\"...</td>\n",
       "      <td>2021-04-24 20:00:00+00:00</td>\n",
       "      <td>youtube#video</td>\n",
       "      <td>861</td>\n",
       "      <td>84717282.0</td>\n",
       "      <td>2876493.0</td>\n",
       "      <td>128922.0</td>\n",
       "    </tr>\n",
       "    <tr>\n",
       "      <th>00NgUctWoLQ</th>\n",
       "      <td>Extreme $1,000,000 Hide And Seek</td>\n",
       "      <td>I didn't expect that to happen at the end I wa...</td>\n",
       "      <td>2021-12-18 21:00:00+00:00</td>\n",
       "      <td>youtube#video</td>\n",
       "      <td>729</td>\n",
       "      <td>32090178.0</td>\n",
       "      <td>2125183.0</td>\n",
       "      <td>73593.0</td>\n",
       "    </tr>\n",
       "    <tr>\n",
       "      <th>NaN</th>\n",
       "      <td>MrBeast</td>\n",
       "      <td>Accomplishments - Raised $20000000 To Plant 20...</td>\n",
       "      <td>2012-02-20 00:43:50+00:00</td>\n",
       "      <td>NaN</td>\n",
       "      <td>0</td>\n",
       "      <td>NaN</td>\n",
       "      <td>NaN</td>\n",
       "      <td>NaN</td>\n",
       "    </tr>\n",
       "    <tr>\n",
       "      <th>ayXxwJJId_c</th>\n",
       "      <td>I Bought The World&amp;#39;s Largest Mystery Box! ...</td>\n",
       "      <td>I cant believe I spent over $500000 on mystery...</td>\n",
       "      <td>2021-04-03 20:00:01+00:00</td>\n",
       "      <td>youtube#video</td>\n",
       "      <td>709</td>\n",
       "      <td>101745632.0</td>\n",
       "      <td>3110824.0</td>\n",
       "      <td>162796.0</td>\n",
       "    </tr>\n",
       "    <tr>\n",
       "      <th>cExLQ1o2pDw</th>\n",
       "      <td>First To Rob Bank Wins $100,000</td>\n",
       "      <td>I didnt think he would actually rob the bank.....</td>\n",
       "      <td>2021-09-26 20:00:06+00:00</td>\n",
       "      <td>youtube#video</td>\n",
       "      <td>482</td>\n",
       "      <td>50008942.0</td>\n",
       "      <td>2359606.0</td>\n",
       "      <td>120621.0</td>\n",
       "    </tr>\n",
       "    <tr>\n",
       "      <th>...</th>\n",
       "      <td>...</td>\n",
       "      <td>...</td>\n",
       "      <td>...</td>\n",
       "      <td>...</td>\n",
       "      <td>...</td>\n",
       "      <td>...</td>\n",
       "      <td>...</td>\n",
       "      <td>...</td>\n",
       "    </tr>\n",
       "    <tr>\n",
       "      <th>yeHjsYQ076A</th>\n",
       "      <td>Remember When COD Was Fun?</td>\n",
       "      <td>Yup, another very pointless video ▻ Subscribe?...</td>\n",
       "      <td>2015-04-26 21:26:36+00:00</td>\n",
       "      <td>youtube#video</td>\n",
       "      <td>216</td>\n",
       "      <td>16312.0</td>\n",
       "      <td>574.0</td>\n",
       "      <td>145.0</td>\n",
       "    </tr>\n",
       "    <tr>\n",
       "      <th>X7doE4h6W64</th>\n",
       "      <td>Insane Gun Sync - 7 Hours To Make</td>\n",
       "      <td>Look at this - http://gyazo.com/8852509d2350db...</td>\n",
       "      <td>2015-06-21 12:22:34+00:00</td>\n",
       "      <td>youtube#video</td>\n",
       "      <td>134</td>\n",
       "      <td>15740.0</td>\n",
       "      <td>637.0</td>\n",
       "      <td>105.0</td>\n",
       "    </tr>\n",
       "    <tr>\n",
       "      <th>AIytwdufwW8</th>\n",
       "      <td>MY MESSAGE TO COD YOUTUBERS (Watch till end plz)</td>\n",
       "      <td>The beginning of the video is a little off top...</td>\n",
       "      <td>2015-05-29 20:07:48+00:00</td>\n",
       "      <td>youtube#video</td>\n",
       "      <td>292</td>\n",
       "      <td>18502.0</td>\n",
       "      <td>508.0</td>\n",
       "      <td>117.0</td>\n",
       "    </tr>\n",
       "    <tr>\n",
       "      <th>56OkH6ocYZU</th>\n",
       "      <td>L0114R - Biblical Creeper Post for Post @L0114R</td>\n",
       "      <td>His channel - https://www.youtube.com/user/the...</td>\n",
       "      <td>2015-05-15 16:48:54+00:00</td>\n",
       "      <td>youtube#video</td>\n",
       "      <td>109</td>\n",
       "      <td>16627.0</td>\n",
       "      <td>430.0</td>\n",
       "      <td>134.0</td>\n",
       "    </tr>\n",
       "    <tr>\n",
       "      <th>zi7tZ-2PhLk</th>\n",
       "      <td>How Much Money Do You Make As An Uber Driver??...</td>\n",
       "      <td>In this video I talk about being an uber drive...</td>\n",
       "      <td>2015-05-31 18:31:25+00:00</td>\n",
       "      <td>youtube#video</td>\n",
       "      <td>304</td>\n",
       "      <td>18773.0</td>\n",
       "      <td>370.0</td>\n",
       "      <td>59.0</td>\n",
       "    </tr>\n",
       "  </tbody>\n",
       "</table>\n",
       "<p>247 rows × 8 columns</p>\n",
       "</div>"
      ],
      "text/plain": [
       "                                                         title  \\\n",
       "id                                                               \n",
       "TQHEJj68Jew               I Got Hunted By A Real Bounty Hunter   \n",
       "00NgUctWoLQ                   Extreme $1,000,000 Hide And Seek   \n",
       "NaN                                                    MrBeast   \n",
       "ayXxwJJId_c  I Bought The World&#39;s Largest Mystery Box! ...   \n",
       "cExLQ1o2pDw                    First To Rob Bank Wins $100,000   \n",
       "...                                                        ...   \n",
       "yeHjsYQ076A                         Remember When COD Was Fun?   \n",
       "X7doE4h6W64                  Insane Gun Sync - 7 Hours To Make   \n",
       "AIytwdufwW8   MY MESSAGE TO COD YOUTUBERS (Watch till end plz)   \n",
       "56OkH6ocYZU    L0114R - Biblical Creeper Post for Post @L0114R   \n",
       "zi7tZ-2PhLk  How Much Money Do You Make As An Uber Driver??...   \n",
       "\n",
       "                                                   description  \\\n",
       "id                                                               \n",
       "TQHEJj68Jew  Sign up for Current w/ my Creator Code \"BEAST\"...   \n",
       "00NgUctWoLQ  I didn't expect that to happen at the end I wa...   \n",
       "NaN          Accomplishments - Raised $20000000 To Plant 20...   \n",
       "ayXxwJJId_c  I cant believe I spent over $500000 on mystery...   \n",
       "cExLQ1o2pDw  I didnt think he would actually rob the bank.....   \n",
       "...                                                        ...   \n",
       "yeHjsYQ076A  Yup, another very pointless video ▻ Subscribe?...   \n",
       "X7doE4h6W64  Look at this - http://gyazo.com/8852509d2350db...   \n",
       "AIytwdufwW8  The beginning of the video is a little off top...   \n",
       "56OkH6ocYZU  His channel - https://www.youtube.com/user/the...   \n",
       "zi7tZ-2PhLk  In this video I talk about being an uber drive...   \n",
       "\n",
       "                           publishTime     kind_stats  duration_seconds  \\\n",
       "id                                                                        \n",
       "TQHEJj68Jew  2021-04-24 20:00:00+00:00  youtube#video               861   \n",
       "00NgUctWoLQ  2021-12-18 21:00:00+00:00  youtube#video               729   \n",
       "NaN          2012-02-20 00:43:50+00:00            NaN                 0   \n",
       "ayXxwJJId_c  2021-04-03 20:00:01+00:00  youtube#video               709   \n",
       "cExLQ1o2pDw  2021-09-26 20:00:06+00:00  youtube#video               482   \n",
       "...                                ...            ...               ...   \n",
       "yeHjsYQ076A  2015-04-26 21:26:36+00:00  youtube#video               216   \n",
       "X7doE4h6W64  2015-06-21 12:22:34+00:00  youtube#video               134   \n",
       "AIytwdufwW8  2015-05-29 20:07:48+00:00  youtube#video               292   \n",
       "56OkH6ocYZU  2015-05-15 16:48:54+00:00  youtube#video               109   \n",
       "zi7tZ-2PhLk  2015-05-31 18:31:25+00:00  youtube#video               304   \n",
       "\n",
       "               viewCount  likeCount  commentCount  \n",
       "id                                                 \n",
       "TQHEJj68Jew   84717282.0  2876493.0      128922.0  \n",
       "00NgUctWoLQ   32090178.0  2125183.0       73593.0  \n",
       "NaN                  NaN        NaN           NaN  \n",
       "ayXxwJJId_c  101745632.0  3110824.0      162796.0  \n",
       "cExLQ1o2pDw   50008942.0  2359606.0      120621.0  \n",
       "...                  ...        ...           ...  \n",
       "yeHjsYQ076A      16312.0      574.0         145.0  \n",
       "X7doE4h6W64      15740.0      637.0         105.0  \n",
       "AIytwdufwW8      18502.0      508.0         117.0  \n",
       "56OkH6ocYZU      16627.0      430.0         134.0  \n",
       "zi7tZ-2PhLk      18773.0      370.0          59.0  \n",
       "\n",
       "[247 rows x 8 columns]"
      ]
     },
     "execution_count": 21,
     "metadata": {},
     "output_type": "execute_result"
    }
   ],
   "source": [
    "df"
   ]
  },
  {
   "cell_type": "code",
   "execution_count": 22,
   "id": "a7370312",
   "metadata": {
    "execution": {
     "iopub.execute_input": "2025-04-27T16:33:14.001013Z",
     "iopub.status.busy": "2025-04-27T16:33:14.000680Z",
     "iopub.status.idle": "2025-04-27T16:33:14.006416Z",
     "shell.execute_reply": "2025-04-27T16:33:14.005345Z"
    },
    "papermill": {
     "duration": 0.022315,
     "end_time": "2025-04-27T16:33:14.008204",
     "exception": false,
     "start_time": "2025-04-27T16:33:13.985889",
     "status": "completed"
    },
    "tags": []
   },
   "outputs": [
    {
     "data": {
      "text/plain": [
       "(247, 8)"
      ]
     },
     "execution_count": 22,
     "metadata": {},
     "output_type": "execute_result"
    }
   ],
   "source": [
    "df.shape"
   ]
  },
  {
   "cell_type": "code",
   "execution_count": 23,
   "id": "e8153c78",
   "metadata": {
    "execution": {
     "iopub.execute_input": "2025-04-27T16:33:14.036685Z",
     "iopub.status.busy": "2025-04-27T16:33:14.036291Z",
     "iopub.status.idle": "2025-04-27T16:33:14.045425Z",
     "shell.execute_reply": "2025-04-27T16:33:14.043940Z"
    },
    "papermill": {
     "duration": 0.026093,
     "end_time": "2025-04-27T16:33:14.047507",
     "exception": false,
     "start_time": "2025-04-27T16:33:14.021414",
     "status": "completed"
    },
    "tags": []
   },
   "outputs": [
    {
     "name": "stderr",
     "output_type": "stream",
     "text": [
      "/usr/local/lib/python3.10/dist-packages/pandas/core/computation/expressions.py:73: RuntimeWarning: invalid value encountered in greater\n",
      "  return op(a, b)\n"
     ]
    }
   ],
   "source": [
    "# subsetting using loc\n",
    "\n",
    "df_subset1 = df.loc[df['viewCount']>1000000]"
   ]
  },
  {
   "cell_type": "code",
   "execution_count": 24,
   "id": "2325ca07",
   "metadata": {
    "execution": {
     "iopub.execute_input": "2025-04-27T16:33:14.076952Z",
     "iopub.status.busy": "2025-04-27T16:33:14.076566Z",
     "iopub.status.idle": "2025-04-27T16:33:14.086917Z",
     "shell.execute_reply": "2025-04-27T16:33:14.085695Z"
    },
    "papermill": {
     "duration": 0.027605,
     "end_time": "2025-04-27T16:33:14.088982",
     "exception": false,
     "start_time": "2025-04-27T16:33:14.061377",
     "status": "completed"
    },
    "tags": []
   },
   "outputs": [],
   "source": [
    "# subsetting using query\n",
    "\n",
    "df_subset2 = df.query('viewCount > 1000000')"
   ]
  },
  {
   "cell_type": "code",
   "execution_count": 25,
   "id": "60808f05",
   "metadata": {
    "execution": {
     "iopub.execute_input": "2025-04-27T16:33:14.119324Z",
     "iopub.status.busy": "2025-04-27T16:33:14.118792Z",
     "iopub.status.idle": "2025-04-27T16:33:14.133275Z",
     "shell.execute_reply": "2025-04-27T16:33:14.132164Z"
    },
    "papermill": {
     "duration": 0.032126,
     "end_time": "2025-04-27T16:33:14.135027",
     "exception": false,
     "start_time": "2025-04-27T16:33:14.102901",
     "status": "completed"
    },
    "tags": []
   },
   "outputs": [
    {
     "name": "stderr",
     "output_type": "stream",
     "text": [
      "/usr/local/lib/python3.10/dist-packages/pandas/io/formats/format.py:1458: RuntimeWarning: invalid value encountered in greater\n",
      "  has_large_values = (abs_vals > 1e6).any()\n",
      "/usr/local/lib/python3.10/dist-packages/pandas/io/formats/format.py:1459: RuntimeWarning: invalid value encountered in less\n",
      "  has_small_values = ((abs_vals < 10 ** (-self.digits)) & (abs_vals > 0)).any()\n",
      "/usr/local/lib/python3.10/dist-packages/pandas/io/formats/format.py:1459: RuntimeWarning: invalid value encountered in greater\n",
      "  has_small_values = ((abs_vals < 10 ** (-self.digits)) & (abs_vals > 0)).any()\n"
     ]
    },
    {
     "data": {
      "text/html": [
       "<div>\n",
       "<style scoped>\n",
       "    .dataframe tbody tr th:only-of-type {\n",
       "        vertical-align: middle;\n",
       "    }\n",
       "\n",
       "    .dataframe tbody tr th {\n",
       "        vertical-align: top;\n",
       "    }\n",
       "\n",
       "    .dataframe thead th {\n",
       "        text-align: right;\n",
       "    }\n",
       "</style>\n",
       "<table border=\"1\" class=\"dataframe\">\n",
       "  <thead>\n",
       "    <tr style=\"text-align: right;\">\n",
       "      <th></th>\n",
       "      <th>title</th>\n",
       "      <th>description</th>\n",
       "      <th>publishTime</th>\n",
       "      <th>kind_stats</th>\n",
       "      <th>duration_seconds</th>\n",
       "      <th>viewCount</th>\n",
       "      <th>likeCount</th>\n",
       "      <th>commentCount</th>\n",
       "    </tr>\n",
       "    <tr>\n",
       "      <th>id</th>\n",
       "      <th></th>\n",
       "      <th></th>\n",
       "      <th></th>\n",
       "      <th></th>\n",
       "      <th></th>\n",
       "      <th></th>\n",
       "      <th></th>\n",
       "      <th></th>\n",
       "    </tr>\n",
       "  </thead>\n",
       "  <tbody>\n",
       "    <tr>\n",
       "      <th>NaN</th>\n",
       "      <td>MrBeast</td>\n",
       "      <td>Accomplishments - Raised $20000000 To Plant 20...</td>\n",
       "      <td>2012-02-20 00:43:50+00:00</td>\n",
       "      <td>NaN</td>\n",
       "      <td>0</td>\n",
       "      <td>NaN</td>\n",
       "      <td>NaN</td>\n",
       "      <td>NaN</td>\n",
       "    </tr>\n",
       "  </tbody>\n",
       "</table>\n",
       "</div>"
      ],
      "text/plain": [
       "       title                                        description  \\\n",
       "id                                                                \n",
       "NaN  MrBeast  Accomplishments - Raised $20000000 To Plant 20...   \n",
       "\n",
       "                   publishTime kind_stats  duration_seconds  viewCount  \\\n",
       "id                                                                       \n",
       "NaN  2012-02-20 00:43:50+00:00        NaN                 0        NaN   \n",
       "\n",
       "     likeCount  commentCount  \n",
       "id                            \n",
       "NaN        NaN           NaN  "
      ]
     },
     "execution_count": 25,
     "metadata": {},
     "output_type": "execute_result"
    }
   ],
   "source": [
    "df.loc[df['viewCount'].isna()]"
   ]
  },
  {
   "cell_type": "code",
   "execution_count": 26,
   "id": "30435a56",
   "metadata": {
    "execution": {
     "iopub.execute_input": "2025-04-27T16:33:14.165918Z",
     "iopub.status.busy": "2025-04-27T16:33:14.165493Z",
     "iopub.status.idle": "2025-04-27T16:33:14.171011Z",
     "shell.execute_reply": "2025-04-27T16:33:14.169900Z"
    },
    "papermill": {
     "duration": 0.023996,
     "end_time": "2025-04-27T16:33:14.172980",
     "exception": false,
     "start_time": "2025-04-27T16:33:14.148984",
     "status": "completed"
    },
    "tags": []
   },
   "outputs": [],
   "source": [
    "# return only True Values (without NULL values)\n",
    "df = df.loc[~df['viewCount'].isna()]"
   ]
  },
  {
   "cell_type": "code",
   "execution_count": null,
   "id": "49b1f542",
   "metadata": {
    "papermill": {
     "duration": 0.013252,
     "end_time": "2025-04-27T16:33:14.200344",
     "exception": false,
     "start_time": "2025-04-27T16:33:14.187092",
     "status": "completed"
    },
    "tags": []
   },
   "outputs": [],
   "source": []
  },
  {
   "cell_type": "markdown",
   "id": "229505d7",
   "metadata": {
    "papermill": {
     "duration": 0.013196,
     "end_time": "2025-04-27T16:33:14.226904",
     "exception": false,
     "start_time": "2025-04-27T16:33:14.213708",
     "status": "completed"
    },
    "tags": []
   },
   "source": [
    "## Casting dtypes"
   ]
  },
  {
   "cell_type": "code",
   "execution_count": 27,
   "id": "d2c14792",
   "metadata": {
    "execution": {
     "iopub.execute_input": "2025-04-27T16:33:14.255361Z",
     "iopub.status.busy": "2025-04-27T16:33:14.254962Z",
     "iopub.status.idle": "2025-04-27T16:33:14.262342Z",
     "shell.execute_reply": "2025-04-27T16:33:14.261089Z"
    },
    "papermill": {
     "duration": 0.023779,
     "end_time": "2025-04-27T16:33:14.264194",
     "exception": false,
     "start_time": "2025-04-27T16:33:14.240415",
     "status": "completed"
    },
    "tags": []
   },
   "outputs": [
    {
     "data": {
      "text/plain": [
       "title                object\n",
       "description          object\n",
       "publishTime          object\n",
       "kind_stats           object\n",
       "duration_seconds      int64\n",
       "viewCount           float64\n",
       "likeCount           float64\n",
       "commentCount        float64\n",
       "dtype: object"
      ]
     },
     "execution_count": 27,
     "metadata": {},
     "output_type": "execute_result"
    }
   ],
   "source": [
    "df.dtypes"
   ]
  },
  {
   "cell_type": "code",
   "execution_count": 28,
   "id": "5ef8a11f",
   "metadata": {
    "execution": {
     "iopub.execute_input": "2025-04-27T16:33:14.356421Z",
     "iopub.status.busy": "2025-04-27T16:33:14.356076Z",
     "iopub.status.idle": "2025-04-27T16:33:14.363909Z",
     "shell.execute_reply": "2025-04-27T16:33:14.362868Z"
    },
    "papermill": {
     "duration": 0.086897,
     "end_time": "2025-04-27T16:33:14.365534",
     "exception": false,
     "start_time": "2025-04-27T16:33:14.278637",
     "status": "completed"
    },
    "tags": []
   },
   "outputs": [
    {
     "data": {
      "text/plain": [
       "id\n",
       "TQHEJj68Jew     84717282\n",
       "00NgUctWoLQ     32090178\n",
       "ayXxwJJId_c    101745632\n",
       "cExLQ1o2pDw     50008942\n",
       "GLoeAJUcz38    145527042\n",
       "                 ...    \n",
       "yeHjsYQ076A        16312\n",
       "X7doE4h6W64        15740\n",
       "AIytwdufwW8        18502\n",
       "56OkH6ocYZU        16627\n",
       "zi7tZ-2PhLk        18773\n",
       "Name: viewCount, Length: 246, dtype: int64"
      ]
     },
     "execution_count": 28,
     "metadata": {},
     "output_type": "execute_result"
    }
   ],
   "source": [
    "df['viewCount'].astype('int')"
   ]
  },
  {
   "cell_type": "code",
   "execution_count": 29,
   "id": "a4d81210",
   "metadata": {
    "execution": {
     "iopub.execute_input": "2025-04-27T16:33:14.396206Z",
     "iopub.status.busy": "2025-04-27T16:33:14.395800Z",
     "iopub.status.idle": "2025-04-27T16:33:14.401953Z",
     "shell.execute_reply": "2025-04-27T16:33:14.400707Z"
    },
    "papermill": {
     "duration": 0.024468,
     "end_time": "2025-04-27T16:33:14.403942",
     "exception": false,
     "start_time": "2025-04-27T16:33:14.379474",
     "status": "completed"
    },
    "tags": []
   },
   "outputs": [
    {
     "name": "stderr",
     "output_type": "stream",
     "text": [
      "<ipython-input-29-fe86e236539f>:1: SettingWithCopyWarning: \n",
      "A value is trying to be set on a copy of a slice from a DataFrame.\n",
      "Try using .loc[row_indexer,col_indexer] = value instead\n",
      "\n",
      "See the caveats in the documentation: https://pandas.pydata.org/pandas-docs/stable/user_guide/indexing.html#returning-a-view-versus-a-copy\n",
      "  df['viewCount'] = df['viewCount'].astype('int')\n"
     ]
    }
   ],
   "source": [
    "df['viewCount'] = df['viewCount'].astype('int')\n"
   ]
  },
  {
   "cell_type": "code",
   "execution_count": 30,
   "id": "aa0711b7",
   "metadata": {
    "execution": {
     "iopub.execute_input": "2025-04-27T16:33:14.433899Z",
     "iopub.status.busy": "2025-04-27T16:33:14.433448Z",
     "iopub.status.idle": "2025-04-27T16:33:14.443649Z",
     "shell.execute_reply": "2025-04-27T16:33:14.442429Z"
    },
    "papermill": {
     "duration": 0.027186,
     "end_time": "2025-04-27T16:33:14.445501",
     "exception": false,
     "start_time": "2025-04-27T16:33:14.418315",
     "status": "completed"
    },
    "tags": []
   },
   "outputs": [
    {
     "data": {
      "text/plain": [
       "id\n",
       "TQHEJj68Jew    2876493.0\n",
       "00NgUctWoLQ    2125183.0\n",
       "ayXxwJJId_c    3110824.0\n",
       "cExLQ1o2pDw    2359606.0\n",
       "GLoeAJUcz38    2762425.0\n",
       "                 ...    \n",
       "yeHjsYQ076A        574.0\n",
       "X7doE4h6W64        637.0\n",
       "AIytwdufwW8        508.0\n",
       "56OkH6ocYZU        430.0\n",
       "zi7tZ-2PhLk        370.0\n",
       "Name: likeCount, Length: 244, dtype: float64"
      ]
     },
     "execution_count": 30,
     "metadata": {},
     "output_type": "execute_result"
    }
   ],
   "source": [
    "df = df.loc[~df['likeCount'].isna()]\n",
    "df['likeCount']"
   ]
  },
  {
   "cell_type": "code",
   "execution_count": null,
   "id": "73b1e986",
   "metadata": {
    "papermill": {
     "duration": 0.015372,
     "end_time": "2025-04-27T16:33:14.477022",
     "exception": false,
     "start_time": "2025-04-27T16:33:14.461650",
     "status": "completed"
    },
    "tags": []
   },
   "outputs": [],
   "source": []
  },
  {
   "cell_type": "code",
   "execution_count": 31,
   "id": "965274ef",
   "metadata": {
    "execution": {
     "iopub.execute_input": "2025-04-27T16:33:14.507831Z",
     "iopub.status.busy": "2025-04-27T16:33:14.507495Z",
     "iopub.status.idle": "2025-04-27T16:33:14.516119Z",
     "shell.execute_reply": "2025-04-27T16:33:14.515025Z"
    },
    "papermill": {
     "duration": 0.026194,
     "end_time": "2025-04-27T16:33:14.518002",
     "exception": false,
     "start_time": "2025-04-27T16:33:14.491808",
     "status": "completed"
    },
    "tags": []
   },
   "outputs": [
    {
     "data": {
      "text/plain": [
       "id\n",
       "TQHEJj68Jew    2876493\n",
       "00NgUctWoLQ    2125183\n",
       "ayXxwJJId_c    3110824\n",
       "cExLQ1o2pDw    2359606\n",
       "GLoeAJUcz38    2762425\n",
       "                ...   \n",
       "yeHjsYQ076A        574\n",
       "X7doE4h6W64        637\n",
       "AIytwdufwW8        508\n",
       "56OkH6ocYZU        430\n",
       "zi7tZ-2PhLk        370\n",
       "Name: likeCount, Length: 244, dtype: int64"
      ]
     },
     "execution_count": 31,
     "metadata": {},
     "output_type": "execute_result"
    }
   ],
   "source": [
    "df['likeCount'] = df['likeCount'].astype('int')\n",
    "df['likeCount']"
   ]
  },
  {
   "cell_type": "code",
   "execution_count": 32,
   "id": "b086edf8",
   "metadata": {
    "execution": {
     "iopub.execute_input": "2025-04-27T16:33:14.548961Z",
     "iopub.status.busy": "2025-04-27T16:33:14.548549Z",
     "iopub.status.idle": "2025-04-27T16:33:14.560347Z",
     "shell.execute_reply": "2025-04-27T16:33:14.559011Z"
    },
    "papermill": {
     "duration": 0.029541,
     "end_time": "2025-04-27T16:33:14.562373",
     "exception": false,
     "start_time": "2025-04-27T16:33:14.532832",
     "status": "completed"
    },
    "tags": []
   },
   "outputs": [],
   "source": [
    "df['publishTime'] = pd.to_datetime(df['publishTime'])"
   ]
  },
  {
   "cell_type": "code",
   "execution_count": 33,
   "id": "fa451c3d",
   "metadata": {
    "execution": {
     "iopub.execute_input": "2025-04-27T16:33:14.592251Z",
     "iopub.status.busy": "2025-04-27T16:33:14.591847Z",
     "iopub.status.idle": "2025-04-27T16:33:14.600214Z",
     "shell.execute_reply": "2025-04-27T16:33:14.599064Z"
    },
    "papermill": {
     "duration": 0.025353,
     "end_time": "2025-04-27T16:33:14.601911",
     "exception": false,
     "start_time": "2025-04-27T16:33:14.576558",
     "status": "completed"
    },
    "tags": []
   },
   "outputs": [
    {
     "data": {
      "text/plain": [
       "id\n",
       "TQHEJj68Jew    2876493\n",
       "00NgUctWoLQ    2125183\n",
       "ayXxwJJId_c    3110824\n",
       "cExLQ1o2pDw    2359606\n",
       "GLoeAJUcz38    2762425\n",
       "                ...   \n",
       "yeHjsYQ076A        574\n",
       "X7doE4h6W64        637\n",
       "AIytwdufwW8        508\n",
       "56OkH6ocYZU        430\n",
       "zi7tZ-2PhLk        370\n",
       "Name: likeCount, Length: 244, dtype: string"
      ]
     },
     "execution_count": 33,
     "metadata": {},
     "output_type": "execute_result"
    }
   ],
   "source": [
    "df['likeCount'].astype('string')"
   ]
  },
  {
   "cell_type": "code",
   "execution_count": 34,
   "id": "ddf63741",
   "metadata": {
    "execution": {
     "iopub.execute_input": "2025-04-27T16:33:14.631870Z",
     "iopub.status.busy": "2025-04-27T16:33:14.631536Z",
     "iopub.status.idle": "2025-04-27T16:33:14.636955Z",
     "shell.execute_reply": "2025-04-27T16:33:14.636108Z"
    },
    "papermill": {
     "duration": 0.022152,
     "end_time": "2025-04-27T16:33:14.638447",
     "exception": false,
     "start_time": "2025-04-27T16:33:14.616295",
     "status": "completed"
    },
    "tags": []
   },
   "outputs": [],
   "source": [
    "df['likeCount'] = pd.to_numeric(df['likeCount'].astype('str'))"
   ]
  },
  {
   "cell_type": "code",
   "execution_count": null,
   "id": "1d5daf7b",
   "metadata": {
    "papermill": {
     "duration": 0.013642,
     "end_time": "2025-04-27T16:33:14.666240",
     "exception": false,
     "start_time": "2025-04-27T16:33:14.652598",
     "status": "completed"
    },
    "tags": []
   },
   "outputs": [],
   "source": []
  },
  {
   "cell_type": "markdown",
   "id": "f64afe32",
   "metadata": {
    "papermill": {
     "duration": 0.014447,
     "end_time": "2025-04-27T16:33:14.695942",
     "exception": false,
     "start_time": "2025-04-27T16:33:14.681495",
     "status": "completed"
    },
    "tags": []
   },
   "source": [
    "## Creating a new column"
   ]
  },
  {
   "cell_type": "code",
   "execution_count": 35,
   "id": "db18358d",
   "metadata": {
    "execution": {
     "iopub.execute_input": "2025-04-27T16:33:14.725530Z",
     "iopub.status.busy": "2025-04-27T16:33:14.725150Z",
     "iopub.status.idle": "2025-04-27T16:33:14.739211Z",
     "shell.execute_reply": "2025-04-27T16:33:14.738011Z"
    },
    "papermill": {
     "duration": 0.030968,
     "end_time": "2025-04-27T16:33:14.741081",
     "exception": false,
     "start_time": "2025-04-27T16:33:14.710113",
     "status": "completed"
    },
    "tags": []
   },
   "outputs": [
    {
     "data": {
      "text/html": [
       "<div>\n",
       "<style scoped>\n",
       "    .dataframe tbody tr th:only-of-type {\n",
       "        vertical-align: middle;\n",
       "    }\n",
       "\n",
       "    .dataframe tbody tr th {\n",
       "        vertical-align: top;\n",
       "    }\n",
       "\n",
       "    .dataframe thead th {\n",
       "        text-align: right;\n",
       "    }\n",
       "</style>\n",
       "<table border=\"1\" class=\"dataframe\">\n",
       "  <thead>\n",
       "    <tr style=\"text-align: right;\">\n",
       "      <th></th>\n",
       "      <th>title</th>\n",
       "      <th>description</th>\n",
       "      <th>publishTime</th>\n",
       "      <th>kind_stats</th>\n",
       "      <th>duration_seconds</th>\n",
       "      <th>viewCount</th>\n",
       "      <th>likeCount</th>\n",
       "      <th>commentCount</th>\n",
       "    </tr>\n",
       "    <tr>\n",
       "      <th>id</th>\n",
       "      <th></th>\n",
       "      <th></th>\n",
       "      <th></th>\n",
       "      <th></th>\n",
       "      <th></th>\n",
       "      <th></th>\n",
       "      <th></th>\n",
       "      <th></th>\n",
       "    </tr>\n",
       "  </thead>\n",
       "  <tbody>\n",
       "    <tr>\n",
       "      <th>TQHEJj68Jew</th>\n",
       "      <td>I Got Hunted By A Real Bounty Hunter</td>\n",
       "      <td>Sign up for Current w/ my Creator Code \"BEAST\"...</td>\n",
       "      <td>2021-04-24 20:00:00+00:00</td>\n",
       "      <td>youtube#video</td>\n",
       "      <td>861</td>\n",
       "      <td>84717282</td>\n",
       "      <td>2876493</td>\n",
       "      <td>128922.0</td>\n",
       "    </tr>\n",
       "    <tr>\n",
       "      <th>00NgUctWoLQ</th>\n",
       "      <td>Extreme $1,000,000 Hide And Seek</td>\n",
       "      <td>I didn't expect that to happen at the end I wa...</td>\n",
       "      <td>2021-12-18 21:00:00+00:00</td>\n",
       "      <td>youtube#video</td>\n",
       "      <td>729</td>\n",
       "      <td>32090178</td>\n",
       "      <td>2125183</td>\n",
       "      <td>73593.0</td>\n",
       "    </tr>\n",
       "    <tr>\n",
       "      <th>ayXxwJJId_c</th>\n",
       "      <td>I Bought The World&amp;#39;s Largest Mystery Box! ...</td>\n",
       "      <td>I cant believe I spent over $500000 on mystery...</td>\n",
       "      <td>2021-04-03 20:00:01+00:00</td>\n",
       "      <td>youtube#video</td>\n",
       "      <td>709</td>\n",
       "      <td>101745632</td>\n",
       "      <td>3110824</td>\n",
       "      <td>162796.0</td>\n",
       "    </tr>\n",
       "    <tr>\n",
       "      <th>cExLQ1o2pDw</th>\n",
       "      <td>First To Rob Bank Wins $100,000</td>\n",
       "      <td>I didnt think he would actually rob the bank.....</td>\n",
       "      <td>2021-09-26 20:00:06+00:00</td>\n",
       "      <td>youtube#video</td>\n",
       "      <td>482</td>\n",
       "      <td>50008942</td>\n",
       "      <td>2359606</td>\n",
       "      <td>120621.0</td>\n",
       "    </tr>\n",
       "    <tr>\n",
       "      <th>GLoeAJUcz38</th>\n",
       "      <td>Press This Button To Win $100,000!</td>\n",
       "      <td>Push the red subscribe button and you could al...</td>\n",
       "      <td>2020-11-14 21:00:02+00:00</td>\n",
       "      <td>youtube#video</td>\n",
       "      <td>911</td>\n",
       "      <td>145527042</td>\n",
       "      <td>2762425</td>\n",
       "      <td>83853.0</td>\n",
       "    </tr>\n",
       "  </tbody>\n",
       "</table>\n",
       "</div>"
      ],
      "text/plain": [
       "                                                         title  \\\n",
       "id                                                               \n",
       "TQHEJj68Jew               I Got Hunted By A Real Bounty Hunter   \n",
       "00NgUctWoLQ                   Extreme $1,000,000 Hide And Seek   \n",
       "ayXxwJJId_c  I Bought The World&#39;s Largest Mystery Box! ...   \n",
       "cExLQ1o2pDw                    First To Rob Bank Wins $100,000   \n",
       "GLoeAJUcz38                 Press This Button To Win $100,000!   \n",
       "\n",
       "                                                   description  \\\n",
       "id                                                               \n",
       "TQHEJj68Jew  Sign up for Current w/ my Creator Code \"BEAST\"...   \n",
       "00NgUctWoLQ  I didn't expect that to happen at the end I wa...   \n",
       "ayXxwJJId_c  I cant believe I spent over $500000 on mystery...   \n",
       "cExLQ1o2pDw  I didnt think he would actually rob the bank.....   \n",
       "GLoeAJUcz38  Push the red subscribe button and you could al...   \n",
       "\n",
       "                          publishTime     kind_stats  duration_seconds  \\\n",
       "id                                                                       \n",
       "TQHEJj68Jew 2021-04-24 20:00:00+00:00  youtube#video               861   \n",
       "00NgUctWoLQ 2021-12-18 21:00:00+00:00  youtube#video               729   \n",
       "ayXxwJJId_c 2021-04-03 20:00:01+00:00  youtube#video               709   \n",
       "cExLQ1o2pDw 2021-09-26 20:00:06+00:00  youtube#video               482   \n",
       "GLoeAJUcz38 2020-11-14 21:00:02+00:00  youtube#video               911   \n",
       "\n",
       "             viewCount  likeCount  commentCount  \n",
       "id                                               \n",
       "TQHEJj68Jew   84717282    2876493      128922.0  \n",
       "00NgUctWoLQ   32090178    2125183       73593.0  \n",
       "ayXxwJJId_c  101745632    3110824      162796.0  \n",
       "cExLQ1o2pDw   50008942    2359606      120621.0  \n",
       "GLoeAJUcz38  145527042    2762425       83853.0  "
      ]
     },
     "execution_count": 35,
     "metadata": {},
     "output_type": "execute_result"
    }
   ],
   "source": [
    "df.head()"
   ]
  },
  {
   "cell_type": "code",
   "execution_count": 36,
   "id": "0df59573",
   "metadata": {
    "execution": {
     "iopub.execute_input": "2025-04-27T16:33:14.771921Z",
     "iopub.status.busy": "2025-04-27T16:33:14.771585Z",
     "iopub.status.idle": "2025-04-27T16:33:14.777301Z",
     "shell.execute_reply": "2025-04-27T16:33:14.775993Z"
    },
    "papermill": {
     "duration": 0.023194,
     "end_time": "2025-04-27T16:33:14.779147",
     "exception": false,
     "start_time": "2025-04-27T16:33:14.755953",
     "status": "completed"
    },
    "tags": []
   },
   "outputs": [],
   "source": [
    "df['like_to_view_ratio'] = df['likeCount'] / df['viewCount']"
   ]
  },
  {
   "cell_type": "code",
   "execution_count": 37,
   "id": "fef8eda9",
   "metadata": {
    "execution": {
     "iopub.execute_input": "2025-04-27T16:33:14.811003Z",
     "iopub.status.busy": "2025-04-27T16:33:14.810673Z",
     "iopub.status.idle": "2025-04-27T16:33:14.824782Z",
     "shell.execute_reply": "2025-04-27T16:33:14.823348Z"
    },
    "papermill": {
     "duration": 0.032542,
     "end_time": "2025-04-27T16:33:14.826713",
     "exception": false,
     "start_time": "2025-04-27T16:33:14.794171",
     "status": "completed"
    },
    "tags": []
   },
   "outputs": [
    {
     "data": {
      "text/html": [
       "<div>\n",
       "<style scoped>\n",
       "    .dataframe tbody tr th:only-of-type {\n",
       "        vertical-align: middle;\n",
       "    }\n",
       "\n",
       "    .dataframe tbody tr th {\n",
       "        vertical-align: top;\n",
       "    }\n",
       "\n",
       "    .dataframe thead th {\n",
       "        text-align: right;\n",
       "    }\n",
       "</style>\n",
       "<table border=\"1\" class=\"dataframe\">\n",
       "  <thead>\n",
       "    <tr style=\"text-align: right;\">\n",
       "      <th></th>\n",
       "      <th>title</th>\n",
       "      <th>description</th>\n",
       "      <th>publishTime</th>\n",
       "      <th>kind_stats</th>\n",
       "      <th>duration_seconds</th>\n",
       "      <th>viewCount</th>\n",
       "      <th>likeCount</th>\n",
       "      <th>commentCount</th>\n",
       "      <th>like_to_view_ratio</th>\n",
       "    </tr>\n",
       "    <tr>\n",
       "      <th>id</th>\n",
       "      <th></th>\n",
       "      <th></th>\n",
       "      <th></th>\n",
       "      <th></th>\n",
       "      <th></th>\n",
       "      <th></th>\n",
       "      <th></th>\n",
       "      <th></th>\n",
       "      <th></th>\n",
       "    </tr>\n",
       "  </thead>\n",
       "  <tbody>\n",
       "    <tr>\n",
       "      <th>TQHEJj68Jew</th>\n",
       "      <td>I Got Hunted By A Real Bounty Hunter</td>\n",
       "      <td>Sign up for Current w/ my Creator Code \"BEAST\"...</td>\n",
       "      <td>2021-04-24 20:00:00+00:00</td>\n",
       "      <td>youtube#video</td>\n",
       "      <td>861</td>\n",
       "      <td>84717282</td>\n",
       "      <td>2876493</td>\n",
       "      <td>128922.0</td>\n",
       "      <td>0.033954</td>\n",
       "    </tr>\n",
       "    <tr>\n",
       "      <th>00NgUctWoLQ</th>\n",
       "      <td>Extreme $1,000,000 Hide And Seek</td>\n",
       "      <td>I didn't expect that to happen at the end I wa...</td>\n",
       "      <td>2021-12-18 21:00:00+00:00</td>\n",
       "      <td>youtube#video</td>\n",
       "      <td>729</td>\n",
       "      <td>32090178</td>\n",
       "      <td>2125183</td>\n",
       "      <td>73593.0</td>\n",
       "      <td>0.066225</td>\n",
       "    </tr>\n",
       "    <tr>\n",
       "      <th>ayXxwJJId_c</th>\n",
       "      <td>I Bought The World&amp;#39;s Largest Mystery Box! ...</td>\n",
       "      <td>I cant believe I spent over $500000 on mystery...</td>\n",
       "      <td>2021-04-03 20:00:01+00:00</td>\n",
       "      <td>youtube#video</td>\n",
       "      <td>709</td>\n",
       "      <td>101745632</td>\n",
       "      <td>3110824</td>\n",
       "      <td>162796.0</td>\n",
       "      <td>0.030575</td>\n",
       "    </tr>\n",
       "    <tr>\n",
       "      <th>cExLQ1o2pDw</th>\n",
       "      <td>First To Rob Bank Wins $100,000</td>\n",
       "      <td>I didnt think he would actually rob the bank.....</td>\n",
       "      <td>2021-09-26 20:00:06+00:00</td>\n",
       "      <td>youtube#video</td>\n",
       "      <td>482</td>\n",
       "      <td>50008942</td>\n",
       "      <td>2359606</td>\n",
       "      <td>120621.0</td>\n",
       "      <td>0.047184</td>\n",
       "    </tr>\n",
       "    <tr>\n",
       "      <th>GLoeAJUcz38</th>\n",
       "      <td>Press This Button To Win $100,000!</td>\n",
       "      <td>Push the red subscribe button and you could al...</td>\n",
       "      <td>2020-11-14 21:00:02+00:00</td>\n",
       "      <td>youtube#video</td>\n",
       "      <td>911</td>\n",
       "      <td>145527042</td>\n",
       "      <td>2762425</td>\n",
       "      <td>83853.0</td>\n",
       "      <td>0.018982</td>\n",
       "    </tr>\n",
       "  </tbody>\n",
       "</table>\n",
       "</div>"
      ],
      "text/plain": [
       "                                                         title  \\\n",
       "id                                                               \n",
       "TQHEJj68Jew               I Got Hunted By A Real Bounty Hunter   \n",
       "00NgUctWoLQ                   Extreme $1,000,000 Hide And Seek   \n",
       "ayXxwJJId_c  I Bought The World&#39;s Largest Mystery Box! ...   \n",
       "cExLQ1o2pDw                    First To Rob Bank Wins $100,000   \n",
       "GLoeAJUcz38                 Press This Button To Win $100,000!   \n",
       "\n",
       "                                                   description  \\\n",
       "id                                                               \n",
       "TQHEJj68Jew  Sign up for Current w/ my Creator Code \"BEAST\"...   \n",
       "00NgUctWoLQ  I didn't expect that to happen at the end I wa...   \n",
       "ayXxwJJId_c  I cant believe I spent over $500000 on mystery...   \n",
       "cExLQ1o2pDw  I didnt think he would actually rob the bank.....   \n",
       "GLoeAJUcz38  Push the red subscribe button and you could al...   \n",
       "\n",
       "                          publishTime     kind_stats  duration_seconds  \\\n",
       "id                                                                       \n",
       "TQHEJj68Jew 2021-04-24 20:00:00+00:00  youtube#video               861   \n",
       "00NgUctWoLQ 2021-12-18 21:00:00+00:00  youtube#video               729   \n",
       "ayXxwJJId_c 2021-04-03 20:00:01+00:00  youtube#video               709   \n",
       "cExLQ1o2pDw 2021-09-26 20:00:06+00:00  youtube#video               482   \n",
       "GLoeAJUcz38 2020-11-14 21:00:02+00:00  youtube#video               911   \n",
       "\n",
       "             viewCount  likeCount  commentCount  like_to_view_ratio  \n",
       "id                                                                   \n",
       "TQHEJj68Jew   84717282    2876493      128922.0            0.033954  \n",
       "00NgUctWoLQ   32090178    2125183       73593.0            0.066225  \n",
       "ayXxwJJId_c  101745632    3110824      162796.0            0.030575  \n",
       "cExLQ1o2pDw   50008942    2359606      120621.0            0.047184  \n",
       "GLoeAJUcz38  145527042    2762425       83853.0            0.018982  "
      ]
     },
     "execution_count": 37,
     "metadata": {},
     "output_type": "execute_result"
    }
   ],
   "source": [
    "df.head()"
   ]
  },
  {
   "cell_type": "code",
   "execution_count": null,
   "id": "133ee7cc",
   "metadata": {
    "papermill": {
     "duration": 0.016,
     "end_time": "2025-04-27T16:33:14.858277",
     "exception": false,
     "start_time": "2025-04-27T16:33:14.842277",
     "status": "completed"
    },
    "tags": []
   },
   "outputs": [],
   "source": []
  },
  {
   "cell_type": "markdown",
   "id": "7f345482",
   "metadata": {
    "papermill": {
     "duration": 0.014449,
     "end_time": "2025-04-27T16:33:14.888437",
     "exception": false,
     "start_time": "2025-04-27T16:33:14.873988",
     "status": "completed"
    },
    "tags": []
   },
   "source": [
    "## Adding new row"
   ]
  },
  {
   "cell_type": "code",
   "execution_count": 38,
   "id": "ac61fe2e",
   "metadata": {
    "execution": {
     "iopub.execute_input": "2025-04-27T16:33:14.920987Z",
     "iopub.status.busy": "2025-04-27T16:33:14.920598Z",
     "iopub.status.idle": "2025-04-27T16:33:14.925488Z",
     "shell.execute_reply": "2025-04-27T16:33:14.924346Z"
    },
    "papermill": {
     "duration": 0.023442,
     "end_time": "2025-04-27T16:33:14.927474",
     "exception": false,
     "start_time": "2025-04-27T16:33:14.904032",
     "status": "completed"
    },
    "tags": []
   },
   "outputs": [],
   "source": [
    "df_to_append = df.tail(1)"
   ]
  },
  {
   "cell_type": "code",
   "execution_count": 39,
   "id": "de012715",
   "metadata": {
    "execution": {
     "iopub.execute_input": "2025-04-27T16:33:14.959239Z",
     "iopub.status.busy": "2025-04-27T16:33:14.958691Z",
     "iopub.status.idle": "2025-04-27T16:33:14.964451Z",
     "shell.execute_reply": "2025-04-27T16:33:14.963389Z"
    },
    "papermill": {
     "duration": 0.024113,
     "end_time": "2025-04-27T16:33:14.966121",
     "exception": false,
     "start_time": "2025-04-27T16:33:14.942008",
     "status": "completed"
    },
    "tags": []
   },
   "outputs": [],
   "source": [
    "df_concat = pd.concat([df, df_to_append])"
   ]
  },
  {
   "cell_type": "code",
   "execution_count": 40,
   "id": "f3075d47",
   "metadata": {
    "execution": {
     "iopub.execute_input": "2025-04-27T16:33:14.998001Z",
     "iopub.status.busy": "2025-04-27T16:33:14.997567Z",
     "iopub.status.idle": "2025-04-27T16:33:15.010660Z",
     "shell.execute_reply": "2025-04-27T16:33:15.009342Z"
    },
    "papermill": {
     "duration": 0.031178,
     "end_time": "2025-04-27T16:33:15.012670",
     "exception": false,
     "start_time": "2025-04-27T16:33:14.981492",
     "status": "completed"
    },
    "tags": []
   },
   "outputs": [
    {
     "data": {
      "text/html": [
       "<div>\n",
       "<style scoped>\n",
       "    .dataframe tbody tr th:only-of-type {\n",
       "        vertical-align: middle;\n",
       "    }\n",
       "\n",
       "    .dataframe tbody tr th {\n",
       "        vertical-align: top;\n",
       "    }\n",
       "\n",
       "    .dataframe thead th {\n",
       "        text-align: right;\n",
       "    }\n",
       "</style>\n",
       "<table border=\"1\" class=\"dataframe\">\n",
       "  <thead>\n",
       "    <tr style=\"text-align: right;\">\n",
       "      <th></th>\n",
       "      <th>title</th>\n",
       "      <th>description</th>\n",
       "      <th>publishTime</th>\n",
       "      <th>kind_stats</th>\n",
       "      <th>duration_seconds</th>\n",
       "      <th>viewCount</th>\n",
       "      <th>likeCount</th>\n",
       "      <th>commentCount</th>\n",
       "      <th>like_to_view_ratio</th>\n",
       "    </tr>\n",
       "    <tr>\n",
       "      <th>id</th>\n",
       "      <th></th>\n",
       "      <th></th>\n",
       "      <th></th>\n",
       "      <th></th>\n",
       "      <th></th>\n",
       "      <th></th>\n",
       "      <th></th>\n",
       "      <th></th>\n",
       "      <th></th>\n",
       "    </tr>\n",
       "  </thead>\n",
       "  <tbody>\n",
       "    <tr>\n",
       "      <th>zi7tZ-2PhLk</th>\n",
       "      <td>How Much Money Do You Make As An Uber Driver??...</td>\n",
       "      <td>In this video I talk about being an uber drive...</td>\n",
       "      <td>2015-05-31 18:31:25+00:00</td>\n",
       "      <td>youtube#video</td>\n",
       "      <td>304</td>\n",
       "      <td>18773</td>\n",
       "      <td>370</td>\n",
       "      <td>59.0</td>\n",
       "      <td>0.019709</td>\n",
       "    </tr>\n",
       "    <tr>\n",
       "      <th>zi7tZ-2PhLk</th>\n",
       "      <td>How Much Money Do You Make As An Uber Driver??...</td>\n",
       "      <td>In this video I talk about being an uber drive...</td>\n",
       "      <td>2015-05-31 18:31:25+00:00</td>\n",
       "      <td>youtube#video</td>\n",
       "      <td>304</td>\n",
       "      <td>18773</td>\n",
       "      <td>370</td>\n",
       "      <td>59.0</td>\n",
       "      <td>0.019709</td>\n",
       "    </tr>\n",
       "  </tbody>\n",
       "</table>\n",
       "</div>"
      ],
      "text/plain": [
       "                                                         title  \\\n",
       "id                                                               \n",
       "zi7tZ-2PhLk  How Much Money Do You Make As An Uber Driver??...   \n",
       "zi7tZ-2PhLk  How Much Money Do You Make As An Uber Driver??...   \n",
       "\n",
       "                                                   description  \\\n",
       "id                                                               \n",
       "zi7tZ-2PhLk  In this video I talk about being an uber drive...   \n",
       "zi7tZ-2PhLk  In this video I talk about being an uber drive...   \n",
       "\n",
       "                          publishTime     kind_stats  duration_seconds  \\\n",
       "id                                                                       \n",
       "zi7tZ-2PhLk 2015-05-31 18:31:25+00:00  youtube#video               304   \n",
       "zi7tZ-2PhLk 2015-05-31 18:31:25+00:00  youtube#video               304   \n",
       "\n",
       "             viewCount  likeCount  commentCount  like_to_view_ratio  \n",
       "id                                                                   \n",
       "zi7tZ-2PhLk      18773        370          59.0            0.019709  \n",
       "zi7tZ-2PhLk      18773        370          59.0            0.019709  "
      ]
     },
     "execution_count": 40,
     "metadata": {},
     "output_type": "execute_result"
    }
   ],
   "source": [
    "df_concat.tail(2)"
   ]
  },
  {
   "cell_type": "markdown",
   "id": "0c5a29e9",
   "metadata": {
    "papermill": {
     "duration": 0.015029,
     "end_time": "2025-04-27T16:33:15.043406",
     "exception": false,
     "start_time": "2025-04-27T16:33:15.028377",
     "status": "completed"
    },
    "tags": []
   },
   "source": [
    "## Plot Examples"
   ]
  },
  {
   "cell_type": "code",
   "execution_count": 41,
   "id": "62d2b151",
   "metadata": {
    "execution": {
     "iopub.execute_input": "2025-04-27T16:33:15.074993Z",
     "iopub.status.busy": "2025-04-27T16:33:15.074608Z",
     "iopub.status.idle": "2025-04-27T16:33:15.597532Z",
     "shell.execute_reply": "2025-04-27T16:33:15.596459Z"
    },
    "papermill": {
     "duration": 0.540775,
     "end_time": "2025-04-27T16:33:15.599387",
     "exception": false,
     "start_time": "2025-04-27T16:33:15.058612",
     "status": "completed"
    },
    "tags": []
   },
   "outputs": [
    {
     "data": {
      "text/plain": [
       "<Axes: title={'center': 'Distribution of View Count'}, ylabel='Frequency'>"
      ]
     },
     "execution_count": 41,
     "metadata": {},
     "output_type": "execute_result"
    },
    {
     "data": {
      "image/png": "[encoded data removed]",
      "text/plain": [
       "<Figure size 1500x500 with 1 Axes>"
      ]
     },
     "metadata": {},
     "output_type": "display_data"
    }
   ],
   "source": [
    "# histogram\n",
    "df['viewCount'].plot(kind='hist', bins=50,\n",
    "                    title='Distribution of View Count',\n",
    "                    figsize=(15,5))"
   ]
  },
  {
   "cell_type": "code",
   "execution_count": 42,
   "id": "4cf27335",
   "metadata": {
    "execution": {
     "iopub.execute_input": "2025-04-27T16:33:15.631599Z",
     "iopub.status.busy": "2025-04-27T16:33:15.631214Z",
     "iopub.status.idle": "2025-04-27T16:33:15.929490Z",
     "shell.execute_reply": "2025-04-27T16:33:15.928327Z"
    },
    "papermill": {
     "duration": 0.31617,
     "end_time": "2025-04-27T16:33:15.931083",
     "exception": false,
     "start_time": "2025-04-27T16:33:15.614913",
     "status": "completed"
    },
    "tags": []
   },
   "outputs": [
    {
     "data": {
      "text/plain": [
       "<Axes: title={'center': 'Views vs Likes Count'}, xlabel='viewCount', ylabel='likeCount'>"
      ]
     },
     "execution_count": 42,
     "metadata": {},
     "output_type": "execute_result"
    },
    {
     "data": {
      "image/png": "[encoded data removed]",
      "text/plain": [
       "<Figure size 640x480 with 1 Axes>"
      ]
     },
     "metadata": {},
     "output_type": "display_data"
    }
   ],
   "source": [
    "# Scatterplot\n",
    "df.plot(kind='scatter', x='viewCount', y='likeCount', title = 'Views vs Likes Count')"
   ]
  },
  {
   "cell_type": "code",
   "execution_count": 43,
   "id": "fce0286c",
   "metadata": {
    "execution": {
     "iopub.execute_input": "2025-04-27T16:33:15.965539Z",
     "iopub.status.busy": "2025-04-27T16:33:15.965202Z",
     "iopub.status.idle": "2025-04-27T16:33:15.983172Z",
     "shell.execute_reply": "2025-04-27T16:33:15.982103Z"
    },
    "papermill": {
     "duration": 0.037771,
     "end_time": "2025-04-27T16:33:15.984934",
     "exception": false,
     "start_time": "2025-04-27T16:33:15.947163",
     "status": "completed"
    },
    "tags": []
   },
   "outputs": [
    {
     "data": {
      "text/html": [
       "<div>\n",
       "<style scoped>\n",
       "    .dataframe tbody tr th:only-of-type {\n",
       "        vertical-align: middle;\n",
       "    }\n",
       "\n",
       "    .dataframe tbody tr th {\n",
       "        vertical-align: top;\n",
       "    }\n",
       "\n",
       "    .dataframe thead th {\n",
       "        text-align: right;\n",
       "    }\n",
       "</style>\n",
       "<table border=\"1\" class=\"dataframe\">\n",
       "  <thead>\n",
       "    <tr style=\"text-align: right;\">\n",
       "      <th></th>\n",
       "      <th>title</th>\n",
       "      <th>description</th>\n",
       "      <th>publishTime</th>\n",
       "      <th>kind_stats</th>\n",
       "      <th>duration_seconds</th>\n",
       "      <th>viewCount</th>\n",
       "      <th>likeCount</th>\n",
       "      <th>commentCount</th>\n",
       "      <th>like_to_view_ratio</th>\n",
       "    </tr>\n",
       "    <tr>\n",
       "      <th>id</th>\n",
       "      <th></th>\n",
       "      <th></th>\n",
       "      <th></th>\n",
       "      <th></th>\n",
       "      <th></th>\n",
       "      <th></th>\n",
       "      <th></th>\n",
       "      <th></th>\n",
       "      <th></th>\n",
       "    </tr>\n",
       "  </thead>\n",
       "  <tbody>\n",
       "    <tr>\n",
       "      <th>0e3GPea1Tyg</th>\n",
       "      <td>$456,000 Squid Game In Real Life!</td>\n",
       "      <td>MAKE SURE YOU WATCH UNTIL GLASS BRIDGE IT'S IN...</td>\n",
       "      <td>2021-11-24 21:00:01+00:00</td>\n",
       "      <td>youtube#video</td>\n",
       "      <td>1542</td>\n",
       "      <td>178763228</td>\n",
       "      <td>12250732</td>\n",
       "      <td>571946.0</td>\n",
       "      <td>0.068530</td>\n",
       "    </tr>\n",
       "    <tr>\n",
       "      <th>0e3GPea1Tyg</th>\n",
       "      <td>$456,000 Squid Game In Real Life!</td>\n",
       "      <td>MAKE SURE YOU WATCH UNTIL GLASS BRIDGE IT'S IN...</td>\n",
       "      <td>2021-11-24 21:00:01+00:00</td>\n",
       "      <td>youtube#video</td>\n",
       "      <td>1542</td>\n",
       "      <td>178763228</td>\n",
       "      <td>12250732</td>\n",
       "      <td>571946.0</td>\n",
       "      <td>0.068530</td>\n",
       "    </tr>\n",
       "    <tr>\n",
       "      <th>dBxOYE2j55U</th>\n",
       "      <td>Make This Video The Most Liked Video On Youtube</td>\n",
       "      <td>WHAT IS UP LOGANG, MAKE SURE YOU LIKE THE VIDE...</td>\n",
       "      <td>2019-01-16 22:05:01+00:00</td>\n",
       "      <td>youtube#video</td>\n",
       "      <td>791</td>\n",
       "      <td>96523287</td>\n",
       "      <td>19049431</td>\n",
       "      <td>277088.0</td>\n",
       "      <td>0.197356</td>\n",
       "    </tr>\n",
       "  </tbody>\n",
       "</table>\n",
       "</div>"
      ],
      "text/plain": [
       "                                                       title  \\\n",
       "id                                                             \n",
       "0e3GPea1Tyg                $456,000 Squid Game In Real Life!   \n",
       "0e3GPea1Tyg                $456,000 Squid Game In Real Life!   \n",
       "dBxOYE2j55U  Make This Video The Most Liked Video On Youtube   \n",
       "\n",
       "                                                   description  \\\n",
       "id                                                               \n",
       "0e3GPea1Tyg  MAKE SURE YOU WATCH UNTIL GLASS BRIDGE IT'S IN...   \n",
       "0e3GPea1Tyg  MAKE SURE YOU WATCH UNTIL GLASS BRIDGE IT'S IN...   \n",
       "dBxOYE2j55U  WHAT IS UP LOGANG, MAKE SURE YOU LIKE THE VIDE...   \n",
       "\n",
       "                          publishTime     kind_stats  duration_seconds  \\\n",
       "id                                                                       \n",
       "0e3GPea1Tyg 2021-11-24 21:00:01+00:00  youtube#video              1542   \n",
       "0e3GPea1Tyg 2021-11-24 21:00:01+00:00  youtube#video              1542   \n",
       "dBxOYE2j55U 2019-01-16 22:05:01+00:00  youtube#video               791   \n",
       "\n",
       "             viewCount  likeCount  commentCount  like_to_view_ratio  \n",
       "id                                                                   \n",
       "0e3GPea1Tyg  178763228   12250732      571946.0            0.068530  \n",
       "0e3GPea1Tyg  178763228   12250732      571946.0            0.068530  \n",
       "dBxOYE2j55U   96523287   19049431      277088.0            0.197356  "
      ]
     },
     "execution_count": 43,
     "metadata": {},
     "output_type": "execute_result"
    }
   ],
   "source": [
    "df.query('likeCount > 10000000')"
   ]
  },
  {
   "cell_type": "code",
   "execution_count": null,
   "id": "d47965ee",
   "metadata": {
    "papermill": {
     "duration": 0.015905,
     "end_time": "2025-04-27T16:33:16.018301",
     "exception": false,
     "start_time": "2025-04-27T16:33:16.002396",
     "status": "completed"
    },
    "tags": []
   },
   "outputs": [],
   "source": []
  },
  {
   "cell_type": "markdown",
   "id": "0a45e546",
   "metadata": {
    "papermill": {
     "duration": 0.017317,
     "end_time": "2025-04-27T16:33:16.052938",
     "exception": false,
     "start_time": "2025-04-27T16:33:16.035621",
     "status": "completed"
    },
    "tags": []
   },
   "source": [
    "## Save our output"
   ]
  },
  {
   "cell_type": "code",
   "execution_count": 44,
   "id": "44f7d51d",
   "metadata": {
    "execution": {
     "iopub.execute_input": "2025-04-27T16:33:16.087803Z",
     "iopub.status.busy": "2025-04-27T16:33:16.087396Z",
     "iopub.status.idle": "2025-04-27T16:33:16.102343Z",
     "shell.execute_reply": "2025-04-27T16:33:16.101297Z"
    },
    "papermill": {
     "duration": 0.034842,
     "end_time": "2025-04-27T16:33:16.104538",
     "exception": false,
     "start_time": "2025-04-27T16:33:16.069696",
     "status": "completed"
    },
    "tags": []
   },
   "outputs": [],
   "source": [
    "df.to_csv('processed_data.csv')"
   ]
  }
 ],
 "metadata": {
  "kaggle": {
   "accelerator": "none",
   "dataSources": [
    {
     "databundleVersionId": 11490489,
     "datasetId": 6919195,
     "sourceId": 11099656,
     "sourceType": "datasetVersion"
    },
    {
     "sourceId": 94752062,
     "sourceType": "kernelVersion"
    },
    {
     "sourceId": 236320931,
     "sourceType": "kernelVersion"
    }
   ],
   "dockerImageVersionId": 30918,
   "isGpuEnabled": false,
   "isInternetEnabled": true,
   "language": "python",
   "sourceType": "notebook"
  },
  "kernelspec": {
   "display_name": "Python 3",
   "language": "python",
   "name": "python3"
  },
  "language_info": {
   "codemirror_mode": {
    "name": "ipython",
    "version": 3
   },
   "file_extension": ".py",
   "mimetype": "text/x-python",
   "name": "python",
   "nbconvert_exporter": "python",
   "pygments_lexer": "ipython3",
   "version": "3.10.12"
  },
  "papermill": {
   "default_parameters": {},
   "duration": 8.662132,
   "end_time": "2025-04-27T16:33:16.742271",
   "environment_variables": {},
   "exception": null,
   "input_path": "__notebook__.ipynb",
   "output_path": "__notebook__.ipynb",
   "parameters": {},
   "start_time": "2025-04-27T16:33:08.080139",
   "version": "2.6.0"
  }
 },
 "nbformat": 4,
 "nbformat_minor": 5
}
