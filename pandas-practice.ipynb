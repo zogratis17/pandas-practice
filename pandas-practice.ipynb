{
 "cells": [
  {
   "cell_type": "code",
   "execution_count": 1,
   "id": "2f16b6dc",
   "metadata": {
    "execution": {
     "iopub.execute_input": "2025-03-20T06:26:22.656651Z",
     "iopub.status.busy": "2025-03-20T06:26:22.656306Z",
     "iopub.status.idle": "2025-03-20T06:26:23.585950Z",
     "shell.execute_reply": "2025-03-20T06:26:23.584981Z"
    },
    "papermill": {
     "duration": 0.936142,
     "end_time": "2025-03-20T06:26:23.587810",
     "exception": false,
     "start_time": "2025-03-20T06:26:22.651668",
     "status": "completed"
    },
    "tags": []
   },
   "outputs": [],
   "source": [
    "import pandas as pd\n",
    "import numpy as np"
   ]
  },
  {
   "cell_type": "markdown",
   "id": "47717a6b",
   "metadata": {
    "papermill": {
     "duration": 0.002746,
     "end_time": "2025-03-20T06:26:23.594075",
     "exception": false,
     "start_time": "2025-03-20T06:26:23.591329",
     "status": "completed"
    },
    "tags": []
   },
   "source": [
    "Series"
   ]
  },
  {
   "cell_type": "code",
   "execution_count": 2,
   "id": "f56bc431",
   "metadata": {
    "execution": {
     "iopub.execute_input": "2025-03-20T06:26:23.601160Z",
     "iopub.status.busy": "2025-03-20T06:26:23.600678Z",
     "iopub.status.idle": "2025-03-20T06:26:23.606615Z",
     "shell.execute_reply": "2025-03-20T06:26:23.605718Z"
    },
    "papermill": {
     "duration": 0.011136,
     "end_time": "2025-03-20T06:26:23.608160",
     "exception": false,
     "start_time": "2025-03-20T06:26:23.597024",
     "status": "completed"
    },
    "tags": []
   },
   "outputs": [],
   "source": [
    "mydfd = ['Boat', 'Car' , 'Truck']\n",
    "\n",
    "myseries = pd.Series(mydfd)"
   ]
  },
  {
   "cell_type": "code",
   "execution_count": 3,
   "id": "6863ab2c",
   "metadata": {
    "execution": {
     "iopub.execute_input": "2025-03-20T06:26:23.615071Z",
     "iopub.status.busy": "2025-03-20T06:26:23.614772Z",
     "iopub.status.idle": "2025-03-20T06:26:23.623387Z",
     "shell.execute_reply": "2025-03-20T06:26:23.622412Z"
    },
    "papermill": {
     "duration": 0.013839,
     "end_time": "2025-03-20T06:26:23.624989",
     "exception": false,
     "start_time": "2025-03-20T06:26:23.611150",
     "status": "completed"
    },
    "tags": []
   },
   "outputs": [
    {
     "data": {
      "text/plain": [
       "0     Boat\n",
       "1      Car\n",
       "2    Truck\n",
       "dtype: object"
      ]
     },
     "execution_count": 3,
     "metadata": {},
     "output_type": "execute_result"
    }
   ],
   "source": [
    "myseries"
   ]
  },
  {
   "cell_type": "markdown",
   "id": "ad7723f6",
   "metadata": {
    "papermill": {
     "duration": 0.002722,
     "end_time": "2025-03-20T06:26:23.630886",
     "exception": false,
     "start_time": "2025-03-20T06:26:23.628164",
     "status": "completed"
    },
    "tags": []
   },
   "source": [
    "DataFrame"
   ]
  },
  {
   "cell_type": "code",
   "execution_count": 4,
   "id": "a9d4cd32",
   "metadata": {
    "execution": {
     "iopub.execute_input": "2025-03-20T06:26:23.637951Z",
     "iopub.status.busy": "2025-03-20T06:26:23.637636Z",
     "iopub.status.idle": "2025-03-20T06:26:23.642127Z",
     "shell.execute_reply": "2025-03-20T06:26:23.641296Z"
    },
    "papermill": {
     "duration": 0.009652,
     "end_time": "2025-03-20T06:26:23.643504",
     "exception": false,
     "start_time": "2025-03-20T06:26:23.633852",
     "status": "completed"
    },
    "tags": []
   },
   "outputs": [],
   "source": [
    "mydfdf = [('Boat',1), ('Car',55), ('Truck', 69),]\n",
    "\n",
    "mydf = pd.DataFrame(mydfdf)"
   ]
  },
  {
   "cell_type": "code",
   "execution_count": 5,
   "id": "713c920f",
   "metadata": {
    "execution": {
     "iopub.execute_input": "2025-03-20T06:26:23.650665Z",
     "iopub.status.busy": "2025-03-20T06:26:23.650323Z",
     "iopub.status.idle": "2025-03-20T06:26:23.669667Z",
     "shell.execute_reply": "2025-03-20T06:26:23.668636Z"
    },
    "papermill": {
     "duration": 0.024562,
     "end_time": "2025-03-20T06:26:23.671255",
     "exception": false,
     "start_time": "2025-03-20T06:26:23.646693",
     "status": "completed"
    },
    "tags": []
   },
   "outputs": [
    {
     "data": {
      "text/html": [
       "<div>\n",
       "<style scoped>\n",
       "    .dataframe tbody tr th:only-of-type {\n",
       "        vertical-align: middle;\n",
       "    }\n",
       "\n",
       "    .dataframe tbody tr th {\n",
       "        vertical-align: top;\n",
       "    }\n",
       "\n",
       "    .dataframe thead th {\n",
       "        text-align: right;\n",
       "    }\n",
       "</style>\n",
       "<table border=\"1\" class=\"dataframe\">\n",
       "  <thead>\n",
       "    <tr style=\"text-align: right;\">\n",
       "      <th></th>\n",
       "      <th>0</th>\n",
       "      <th>1</th>\n",
       "    </tr>\n",
       "  </thead>\n",
       "  <tbody>\n",
       "    <tr>\n",
       "      <th>0</th>\n",
       "      <td>Boat</td>\n",
       "      <td>1</td>\n",
       "    </tr>\n",
       "    <tr>\n",
       "      <th>1</th>\n",
       "      <td>Car</td>\n",
       "      <td>55</td>\n",
       "    </tr>\n",
       "    <tr>\n",
       "      <th>2</th>\n",
       "      <td>Truck</td>\n",
       "      <td>69</td>\n",
       "    </tr>\n",
       "  </tbody>\n",
       "</table>\n",
       "</div>"
      ],
      "text/plain": [
       "       0   1\n",
       "0   Boat   1\n",
       "1    Car  55\n",
       "2  Truck  69"
      ]
     },
     "execution_count": 5,
     "metadata": {},
     "output_type": "execute_result"
    }
   ],
   "source": [
    "mydf"
   ]
  },
  {
   "cell_type": "code",
   "execution_count": 6,
   "id": "0d1271e9",
   "metadata": {
    "execution": {
     "iopub.execute_input": "2025-03-20T06:26:23.678708Z",
     "iopub.status.busy": "2025-03-20T06:26:23.678351Z",
     "iopub.status.idle": "2025-03-20T06:26:23.691021Z",
     "shell.execute_reply": "2025-03-20T06:26:23.690159Z"
    },
    "papermill": {
     "duration": 0.018135,
     "end_time": "2025-03-20T06:26:23.692656",
     "exception": false,
     "start_time": "2025-03-20T06:26:23.674521",
     "status": "completed"
    },
    "tags": []
   },
   "outputs": [
    {
     "data": {
      "text/html": [
       "<div>\n",
       "<style scoped>\n",
       "    .dataframe tbody tr th:only-of-type {\n",
       "        vertical-align: middle;\n",
       "    }\n",
       "\n",
       "    .dataframe tbody tr th {\n",
       "        vertical-align: top;\n",
       "    }\n",
       "\n",
       "    .dataframe thead th {\n",
       "        text-align: right;\n",
       "    }\n",
       "</style>\n",
       "<table border=\"1\" class=\"dataframe\">\n",
       "  <thead>\n",
       "    <tr style=\"text-align: right;\">\n",
       "      <th></th>\n",
       "      <th>thing</th>\n",
       "      <th>count</th>\n",
       "    </tr>\n",
       "  </thead>\n",
       "  <tbody>\n",
       "    <tr>\n",
       "      <th>0</th>\n",
       "      <td>Boat</td>\n",
       "      <td>1</td>\n",
       "    </tr>\n",
       "    <tr>\n",
       "      <th>1</th>\n",
       "      <td>Car</td>\n",
       "      <td>55</td>\n",
       "    </tr>\n",
       "    <tr>\n",
       "      <th>2</th>\n",
       "      <td>Truck</td>\n",
       "      <td>69</td>\n",
       "    </tr>\n",
       "  </tbody>\n",
       "</table>\n",
       "</div>"
      ],
      "text/plain": [
       "   thing  count\n",
       "0   Boat      1\n",
       "1    Car     55\n",
       "2  Truck     69"
      ]
     },
     "execution_count": 6,
     "metadata": {},
     "output_type": "execute_result"
    }
   ],
   "source": [
    "mydf = pd.DataFrame(mydfdf, columns = ['thing', 'count'])\n",
    "mydf"
   ]
  },
  {
   "cell_type": "code",
   "execution_count": 7,
   "id": "176c9f9b",
   "metadata": {
    "execution": {
     "iopub.execute_input": "2025-03-20T06:26:23.700460Z",
     "iopub.status.busy": "2025-03-20T06:26:23.700099Z",
     "iopub.status.idle": "2025-03-20T06:26:23.706121Z",
     "shell.execute_reply": "2025-03-20T06:26:23.705110Z"
    },
    "papermill": {
     "duration": 0.011487,
     "end_time": "2025-03-20T06:26:23.707542",
     "exception": false,
     "start_time": "2025-03-20T06:26:23.696055",
     "status": "completed"
    },
    "tags": []
   },
   "outputs": [
    {
     "data": {
      "text/plain": [
       "0     1\n",
       "1    55\n",
       "2    69\n",
       "Name: count, dtype: int64"
      ]
     },
     "execution_count": 7,
     "metadata": {},
     "output_type": "execute_result"
    }
   ],
   "source": [
    "mydf['count']"
   ]
  },
  {
   "cell_type": "code",
   "execution_count": 8,
   "id": "4b214bbc",
   "metadata": {
    "execution": {
     "iopub.execute_input": "2025-03-20T06:26:23.715077Z",
     "iopub.status.busy": "2025-03-20T06:26:23.714755Z",
     "iopub.status.idle": "2025-03-20T06:26:23.720093Z",
     "shell.execute_reply": "2025-03-20T06:26:23.719187Z"
    },
    "papermill": {
     "duration": 0.010817,
     "end_time": "2025-03-20T06:26:23.721684",
     "exception": false,
     "start_time": "2025-03-20T06:26:23.710867",
     "status": "completed"
    },
    "tags": []
   },
   "outputs": [
    {
     "data": {
      "text/plain": [
       "pandas.core.series.Series"
      ]
     },
     "execution_count": 8,
     "metadata": {},
     "output_type": "execute_result"
    }
   ],
   "source": [
    "type(mydf['count'])"
   ]
  },
  {
   "cell_type": "code",
   "execution_count": 9,
   "id": "28b685a7",
   "metadata": {
    "execution": {
     "iopub.execute_input": "2025-03-20T06:26:23.729735Z",
     "iopub.status.busy": "2025-03-20T06:26:23.729378Z",
     "iopub.status.idle": "2025-03-20T06:26:23.735678Z",
     "shell.execute_reply": "2025-03-20T06:26:23.734661Z"
    },
    "papermill": {
     "duration": 0.011916,
     "end_time": "2025-03-20T06:26:23.737215",
     "exception": false,
     "start_time": "2025-03-20T06:26:23.725299",
     "status": "completed"
    },
    "tags": []
   },
   "outputs": [
    {
     "data": {
      "text/plain": [
       "thing    object\n",
       "count     int64\n",
       "dtype: object"
      ]
     },
     "execution_count": 9,
     "metadata": {},
     "output_type": "execute_result"
    }
   ],
   "source": [
    "mydf.dtypes"
   ]
  },
  {
   "cell_type": "code",
   "execution_count": null,
   "id": "2abac568",
   "metadata": {
    "papermill": {
     "duration": 0.003122,
     "end_time": "2025-03-20T06:26:23.743897",
     "exception": false,
     "start_time": "2025-03-20T06:26:23.740775",
     "status": "completed"
    },
    "tags": []
   },
   "outputs": [],
   "source": []
  }
 ],
 "metadata": {
  "kaggle": {
   "accelerator": "none",
   "dataSources": [
    {
     "sourceId": 228569863,
     "sourceType": "kernelVersion"
    }
   ],
   "dockerImageVersionId": 30918,
   "isGpuEnabled": false,
   "isInternetEnabled": true,
   "language": "python",
   "sourceType": "notebook"
  },
  "kernelspec": {
   "display_name": "Python 3",
   "language": "python",
   "name": "python3"
  },
  "language_info": {
   "codemirror_mode": {
    "name": "ipython",
    "version": 3
   },
   "file_extension": ".py",
   "mimetype": "text/x-python",
   "name": "python",
   "nbconvert_exporter": "python",
   "pygments_lexer": "ipython3",
   "version": "3.10.12"
  },
  "papermill": {
   "default_parameters": {},
   "duration": 4.340741,
   "end_time": "2025-03-20T06:26:24.265564",
   "environment_variables": {},
   "exception": null,
   "input_path": "__notebook__.ipynb",
   "output_path": "__notebook__.ipynb",
   "parameters": {},
   "start_time": "2025-03-20T06:26:19.924823",
   "version": "2.6.0"
  }
 },
 "nbformat": 4,
 "nbformat_minor": 5
}
